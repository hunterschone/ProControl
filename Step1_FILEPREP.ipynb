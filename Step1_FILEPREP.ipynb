{
 "cells": [
  {
   "cell_type": "markdown",
   "id": "3a6bfca1-997e-4920-ac3f-322c585813e2",
   "metadata": {},
   "source": [
    "### 1. Unarchive scans"
   ]
  },
  {
   "cell_type": "code",
   "execution_count": 23,
   "id": "ba1ed88e-aa42-4ba0-8e7f-3b9e62e5c9b3",
   "metadata": {},
   "outputs": [
    {
     "name": "stdout",
     "output_type": "stream",
     "text": [
      "sub-co11\n",
      "pre\n"
     ]
    }
   ],
   "source": [
    "%%bash\n",
    "for subj in sub-co11; do\n",
    "echo \"$subj\"\n",
    "    for sess in pre; do\n",
    "        tar -xzf ./data/DONE/$subj/$sess/raw/* -C ./data/DONE/$subj/$sess/raw;\n",
    "        echo \"$sess\"\n",
    "    done\n",
    "done"
   ]
  },
  {
   "cell_type": "markdown",
   "id": "783a306f-7f4f-4167-a1d7-e3587532e56b",
   "metadata": {},
   "source": [
    "### 2. Create a temp directory for relevant DICOMs"
   ]
  },
  {
   "cell_type": "code",
   "execution_count": 24,
   "id": "42f56de4-7640-4e21-b89f-36151dec286c",
   "metadata": {},
   "outputs": [
    {
     "name": "stdout",
     "output_type": "stream",
     "text": [
      "sub-co11\n"
     ]
    }
   ],
   "source": [
    "%%bash\n",
    "for subj in sub-co11; do\n",
    "echo \"$subj\"\n",
    "    for sess in pre; do\n",
    "        cd /System/Volumes/Data/misc/data19/schonehr/ProControl/data/DONE/$subj/$sess/raw/*/*/\n",
    "        mr=mr\n",
    "        scans=(\"$(ls -d $mr*)\")\n",
    "        mkdir temp\n",
    "        for f in $scans; do\n",
    "            mkdir temp/temp_$f\n",
    "        done\n",
    "    done\n",
    "done"
   ]
  },
  {
   "cell_type": "markdown",
   "id": "c35d4c78-c2d4-4ff3-bde0-9d6029e75fb1",
   "metadata": {},
   "source": [
    "### 3. Convert DICOMs to NIFTIs"
   ]
  },
  {
   "cell_type": "code",
   "execution_count": 25,
   "id": "12328dfd-8759-4b7a-a684-8335906d0e3d",
   "metadata": {},
   "outputs": [
    {
     "name": "stdout",
     "output_type": "stream",
     "text": [
      "sub-co11\n",
      "/System/Volumes/Data/misc/data19/schonehr/ProControl/data/DONE/sub-co11/pre/raw/JONES_MADALYN_ELIZABETH-08198214/20211212-30282/mr_0003/\n",
      "/System/Volumes/Data/misc/data19/schonehr/ProControl/data/DONE/sub-co11/pre/raw/JONES_MADALYN_ELIZABETH-08198214/20211212-30282/temp/temp_mr_0003/\n",
      "/System/Volumes/Data/misc/data19/schonehr/ProControl/data/DONE/sub-co11/pre/raw/JONES_MADALYN_ELIZABETH-08198214/20211212-30282/mr_0007/\n",
      "/System/Volumes/Data/misc/data19/schonehr/ProControl/data/DONE/sub-co11/pre/raw/JONES_MADALYN_ELIZABETH-08198214/20211212-30282/temp/temp_mr_0007/\n",
      "/System/Volumes/Data/misc/data19/schonehr/ProControl/data/DONE/sub-co11/pre/raw/JONES_MADALYN_ELIZABETH-08198214/20211212-30282/mr_0008/\n",
      "/System/Volumes/Data/misc/data19/schonehr/ProControl/data/DONE/sub-co11/pre/raw/JONES_MADALYN_ELIZABETH-08198214/20211212-30282/temp/temp_mr_0008/\n",
      "/System/Volumes/Data/misc/data19/schonehr/ProControl/data/DONE/sub-co11/pre/raw/JONES_MADALYN_ELIZABETH-08198214/20211212-30282/mr_0009/\n",
      "/System/Volumes/Data/misc/data19/schonehr/ProControl/data/DONE/sub-co11/pre/raw/JONES_MADALYN_ELIZABETH-08198214/20211212-30282/temp/temp_mr_0009/\n",
      "/System/Volumes/Data/misc/data19/schonehr/ProControl/data/DONE/sub-co11/pre/raw/JONES_MADALYN_ELIZABETH-08198214/20211212-30282/mr_0010/\n",
      "/System/Volumes/Data/misc/data19/schonehr/ProControl/data/DONE/sub-co11/pre/raw/JONES_MADALYN_ELIZABETH-08198214/20211212-30282/temp/temp_mr_0010/\n",
      "/System/Volumes/Data/misc/data19/schonehr/ProControl/data/DONE/sub-co11/pre/raw/JONES_MADALYN_ELIZABETH-08198214/20211212-30282/mr_0011/\n",
      "/System/Volumes/Data/misc/data19/schonehr/ProControl/data/DONE/sub-co11/pre/raw/JONES_MADALYN_ELIZABETH-08198214/20211212-30282/temp/temp_mr_0011/\n",
      "/System/Volumes/Data/misc/data19/schonehr/ProControl/data/DONE/sub-co11/pre/raw/JONES_MADALYN_ELIZABETH-08198214/20211212-30282/mr_0012/\n",
      "/System/Volumes/Data/misc/data19/schonehr/ProControl/data/DONE/sub-co11/pre/raw/JONES_MADALYN_ELIZABETH-08198214/20211212-30282/temp/temp_mr_0012/\n",
      "/System/Volumes/Data/misc/data19/schonehr/ProControl/data/DONE/sub-co11/pre/raw/JONES_MADALYN_ELIZABETH-08198214/20211212-30282/mr_0013/\n",
      "/System/Volumes/Data/misc/data19/schonehr/ProControl/data/DONE/sub-co11/pre/raw/JONES_MADALYN_ELIZABETH-08198214/20211212-30282/temp/temp_mr_0013/\n"
     ]
    }
   ],
   "source": [
    "import glob\n",
    "import dicom2nifti\n",
    "subjects = ['sub-co11']#,'sub-bi06','sub-bi07','sub-bi08','sub-ar01','sub-ar05','sub-ar06','sub-ar08','sub-ar09','sub-ar12','sub-co01']\n",
    "files = ['0003','0007','0008','0009','0010','0011','0012','0013']\n",
    "\n",
    "for subj in subjects:\n",
    "    print(subj)\n",
    "    for i in files:\n",
    "        for input in glob.glob('/System/Volumes/Data/misc/data19/schonehr/ProControl/data/DONE/'+str(subj)+'/pre/raw/*/*/mr_'+str(i)+'/'):\n",
    "            print(input)\n",
    "        for output in glob.glob('/System/Volumes/Data/misc/data19/schonehr/ProControl/data/DONE/'+str(subj)+'/pre/raw/*/*/temp/temp_mr_'+str(i)+'/'):\n",
    "            print(output)\n",
    "        dicom2nifti.convert_directory(input,output)"
   ]
  },
  {
   "cell_type": "markdown",
   "id": "2ca5b642-a411-4a95-a625-9dae2b86ac97",
   "metadata": {},
   "source": [
    "### 4. Move and rename NIFTIs to working directories"
   ]
  },
  {
   "cell_type": "code",
   "execution_count": 26,
   "id": "85608808-cce8-493a-89b9-0cc72f695abc",
   "metadata": {},
   "outputs": [
    {
     "name": "stdout",
     "output_type": "stream",
     "text": [
      "sub-co11\n"
     ]
    }
   ],
   "source": [
    "%%bash\n",
    "for subj in sub-co11; do\n",
    "echo \"$subj\"\n",
    "    for sess in pre; do\n",
    "        mv /System/Volumes/Data/misc/data19/schonehr/ProControl/data/DONE/$subj/$sess/raw/*/*/temp/temp_mr_0007/* /System/Volumes/Data/misc/data19/schonehr/ProControl/data/DONE/$subj/$sess/func/${subj}_task_run-1_bold.nii.gz\n",
    "        mv /System/Volumes/Data/misc/data19/schonehr/ProControl/data/DONE/$subj/$sess/raw/*/*/temp/temp_mr_0008/* /System/Volumes/Data/misc/data19/schonehr/ProControl/data/DONE/$subj/$sess/func/${subj}_task_run-2_bold.nii.gz\n",
    "        mv /System/Volumes/Data/misc/data19/schonehr/ProControl/data/DONE/$subj/$sess/raw/*/*/temp/temp_mr_0009/* /System/Volumes/Data/misc/data19/schonehr/ProControl/data/DONE/$subj/$sess/func/${subj}_task_run-3_bold.nii.gz\n",
    "        mv /System/Volumes/Data/misc/data19/schonehr/ProControl/data/DONE/$subj/$sess/raw/*/*/temp/temp_mr_0010/* /System/Volumes/Data/misc/data19/schonehr/ProControl/data/DONE/$subj/$sess/func/${subj}_task_run-4_bold.nii.gz\n",
    "        mv /System/Volumes/Data/misc/data19/schonehr/ProControl/data/DONE/$subj/$sess/raw/*/*/temp/temp_mr_0011/* /System/Volumes/Data/misc/data19/schonehr/ProControl/data/DONE/$subj/$sess/func/${subj}_task_run-5_bold.nii.gz\n",
    "        mv /System/Volumes/Data/misc/data19/schonehr/ProControl/data/DONE/$subj/$sess/raw/*/*/temp/temp_mr_0012/* /System/Volumes/Data/misc/data19/schonehr/ProControl/data/DONE/$subj/$sess/func/${subj}_task_run-6_bold.nii.gz\n",
    "        mv /System/Volumes/Data/misc/data19/schonehr/ProControl/data/DONE/$subj/$sess/raw/*/*/temp/temp_mr_0013/* /System/Volumes/Data/misc/data19/schonehr/ProControl/data/DONE/$subj/$sess/func/${subj}_task_visloc_bold.nii.gz\n",
    "        mv /System/Volumes/Data/misc/data19/schonehr/ProControl/data/DONE/$subj/$sess/raw/*/*/temp/temp_mr_0003/* /System/Volumes/Data/misc/data19/schonehr/ProControl/data/DONE/$subj/$sess/anat/${subj}_T1w.nii.gz\n",
    "    done\n",
    "done"
   ]
  },
  {
   "cell_type": "markdown",
   "id": "771353d3-d218-4e82-88ac-c508c1aa6de0",
   "metadata": {},
   "source": [
    "### 5. Format scan onset timing files pulled from the trialmats outputted after each run"
   ]
  },
  {
   "cell_type": "code",
   "execution_count": 33,
   "id": "0415fcca-9953-472f-84f6-a2a777390e06",
   "metadata": {},
   "outputs": [
    {
     "name": "stdout",
     "output_type": "stream",
     "text": [
      "Using matplotlib backend: MacOSX\n",
      "Populating the interactive namespace from numpy and matplotlib\n"
     ]
    }
   ],
   "source": [
    "%matplotlib inline\n",
    "import matplotlib.pyplot as plt\n",
    "import os\n",
    "import glob\n",
    "from scipy import stats\n",
    "import numpy as np\n",
    "import pandas as pd\n",
    "import warnings\n",
    "%pylab\n",
    "\n",
    "subjs='sub-co11'\n",
    "sessions ='pre'\n",
    "run=6\n",
    "script=383\n",
    "\n",
    "#this will output the onsets for the instructions\n",
    "trialmat = pd.read_csv('/System/Volumes/Data/misc/data19/schonehr/ProControl/data/DONE/'+str(subjs)+'/'+str(sessions)+'/trialmats/'+str(subjs)+'_sess_'+str(sessions)+'_run_'+str(run)+'_script_'+str(script)+'.csv')\n",
    "condX = pd.DataFrame(trialmat['instruction.started']-6) #when running the glm, I ignore the first 4 TRs (6s), so here I want to modify the timings by 6seconds\n",
    "condX = condX.iloc[:,0:1]\n",
    "condX.insert(1, 2, 1.5) # 1.5 second length\n",
    "condX.insert(2, 3, 1)\n",
    "np.savetxt('/System/Volumes/Data/misc/data19/schonehr/ProControl/data/DONE/'+str(subjs)+'/'+str(sessions)+'/model/onset_timings/' + 'run' + str(run) + os.sep + 'cond_instruction' + '.tsv', condX.values, fmt='%1.3f',delimiter='\\t')\n",
    "                \n",
    "#this will output the onsets for the individual conditions\n",
    "trialmat = pd.read_csv('/System/Volumes/Data/misc/data19/schonehr/ProControl/data/DONE/'+str(subjs)+'/'+str(sessions)+'/trialmats/'+str(subjs)+'_sess_'+str(sessions)+'_run_'+str(run)+'_script_'+str(script)+'.csv')\n",
    "for i in range(20):\n",
    "    condX = pd.DataFrame(trialmat.loc[trialmat.uniquetrial == i,'mov.started']-6)\n",
    "    condX = condX.iloc[:,0:1]\n",
    "    condX.insert(1, 2, 2) # 2.0 second length\n",
    "    condX.insert(2, 3, 1)\n",
    "    np.savetxt('/System/Volumes/Data/misc/data19/schonehr/ProControl/data/DONE/'+str(subjs)+'/'+str(sessions)+'/model/onset_timings/' + 'run' + str(run) + os.sep + 'cond' + str(i) + '.tsv', condX.values, fmt='%1.3f',delimiter='\\t')"
   ]
  },
  {
   "cell_type": "code",
   "execution_count": null,
   "id": "e3438a91-6e35-411e-ade5-4d8af99bb51c",
   "metadata": {},
   "outputs": [],
   "source": []
  }
 ],
 "metadata": {
  "kernelspec": {
   "display_name": "Python 3",
   "language": "python",
   "name": "python3"
  },
  "language_info": {
   "codemirror_mode": {
    "name": "ipython",
    "version": 3
   },
   "file_extension": ".py",
   "mimetype": "text/x-python",
   "name": "python",
   "nbconvert_exporter": "python",
   "pygments_lexer": "ipython3",
   "version": "3.8.5"
  }
 },
 "nbformat": 4,
 "nbformat_minor": 5
}
