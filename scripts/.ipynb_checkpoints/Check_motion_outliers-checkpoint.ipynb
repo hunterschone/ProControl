{
 "cells": [
  {
   "cell_type": "code",
   "execution_count": 1,
   "metadata": {},
   "outputs": [
    {
     "name": "stderr",
     "output_type": "stream",
     "text": [
      "bash: line 4: sub-aa03: command not found\n"
     ]
    }
   ],
   "source": [
    "%%bash\n",
    "cd ../data/DONE/\n",
    "for subj in `sub-ar03`; do\n",
    "    fsl_sub -q veryshort.q ./motion_outliers.py -s ${subj}\n",
    "    echo ${subj}\n",
    "done"
   ]
  }
 ],
 "metadata": {
  "kernelspec": {
   "display_name": "Python 3",
   "language": "python",
   "name": "python3"
  },
  "language_info": {
   "codemirror_mode": {
    "name": "ipython",
    "version": 3
   },
   "file_extension": ".py",
   "mimetype": "text/x-python",
   "name": "python",
   "nbconvert_exporter": "python",
   "pygments_lexer": "ipython3",
   "version": "3.8.5"
  }
 },
 "nbformat": 4,
 "nbformat_minor": 4
}
