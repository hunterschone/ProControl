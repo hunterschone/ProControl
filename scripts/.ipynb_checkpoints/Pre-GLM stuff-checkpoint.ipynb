{
 "cells": [
  {
   "cell_type": "code",
   "execution_count": 1,
   "metadata": {},
   "outputs": [
    {
     "name": "stderr",
     "output_type": "stream",
     "text": [
      "bash: line 1: ./check_imaging_files.sh: Permission denied\n"
     ]
    },
    {
     "ename": "CalledProcessError",
     "evalue": "Command 'b'./check_imaging_files.sh\\n'' returned non-zero exit status 126.",
     "output_type": "error",
     "traceback": [
      "\u001b[0;31m---------------------------------------------------------------------------\u001b[0m",
      "\u001b[0;31mCalledProcessError\u001b[0m                        Traceback (most recent call last)",
      "\u001b[0;32m<ipython-input-1-4aed2f0a02d5>\u001b[0m in \u001b[0;36m<module>\u001b[0;34m\u001b[0m\n\u001b[0;32m----> 1\u001b[0;31m \u001b[0mget_ipython\u001b[0m\u001b[0;34m(\u001b[0m\u001b[0;34m)\u001b[0m\u001b[0;34m.\u001b[0m\u001b[0mrun_cell_magic\u001b[0m\u001b[0;34m(\u001b[0m\u001b[0;34m'bash'\u001b[0m\u001b[0;34m,\u001b[0m \u001b[0;34m''\u001b[0m\u001b[0;34m,\u001b[0m \u001b[0;34m'./check_imaging_files.sh\\n'\u001b[0m\u001b[0;34m)\u001b[0m\u001b[0;34m\u001b[0m\u001b[0;34m\u001b[0m\u001b[0m\n\u001b[0m",
      "\u001b[0;32m~/.conda/envs/myenv/lib/python3.6/site-packages/IPython/core/interactiveshell.py\u001b[0m in \u001b[0;36mrun_cell_magic\u001b[0;34m(self, magic_name, line, cell)\u001b[0m\n\u001b[1;32m   2321\u001b[0m             \u001b[0mmagic_arg_s\u001b[0m \u001b[0;34m=\u001b[0m \u001b[0mself\u001b[0m\u001b[0;34m.\u001b[0m\u001b[0mvar_expand\u001b[0m\u001b[0;34m(\u001b[0m\u001b[0mline\u001b[0m\u001b[0;34m,\u001b[0m \u001b[0mstack_depth\u001b[0m\u001b[0;34m)\u001b[0m\u001b[0;34m\u001b[0m\u001b[0;34m\u001b[0m\u001b[0m\n\u001b[1;32m   2322\u001b[0m             \u001b[0;32mwith\u001b[0m \u001b[0mself\u001b[0m\u001b[0;34m.\u001b[0m\u001b[0mbuiltin_trap\u001b[0m\u001b[0;34m:\u001b[0m\u001b[0;34m\u001b[0m\u001b[0;34m\u001b[0m\u001b[0m\n\u001b[0;32m-> 2323\u001b[0;31m                 \u001b[0mresult\u001b[0m \u001b[0;34m=\u001b[0m \u001b[0mfn\u001b[0m\u001b[0;34m(\u001b[0m\u001b[0mmagic_arg_s\u001b[0m\u001b[0;34m,\u001b[0m \u001b[0mcell\u001b[0m\u001b[0;34m)\u001b[0m\u001b[0;34m\u001b[0m\u001b[0;34m\u001b[0m\u001b[0m\n\u001b[0m\u001b[1;32m   2324\u001b[0m             \u001b[0;32mreturn\u001b[0m \u001b[0mresult\u001b[0m\u001b[0;34m\u001b[0m\u001b[0;34m\u001b[0m\u001b[0m\n\u001b[1;32m   2325\u001b[0m \u001b[0;34m\u001b[0m\u001b[0m\n",
      "\u001b[0;32m~/.conda/envs/myenv/lib/python3.6/site-packages/IPython/core/magics/script.py\u001b[0m in \u001b[0;36mnamed_script_magic\u001b[0;34m(line, cell)\u001b[0m\n\u001b[1;32m    140\u001b[0m             \u001b[0;32melse\u001b[0m\u001b[0;34m:\u001b[0m\u001b[0;34m\u001b[0m\u001b[0;34m\u001b[0m\u001b[0m\n\u001b[1;32m    141\u001b[0m                 \u001b[0mline\u001b[0m \u001b[0;34m=\u001b[0m \u001b[0mscript\u001b[0m\u001b[0;34m\u001b[0m\u001b[0;34m\u001b[0m\u001b[0m\n\u001b[0;32m--> 142\u001b[0;31m             \u001b[0;32mreturn\u001b[0m \u001b[0mself\u001b[0m\u001b[0;34m.\u001b[0m\u001b[0mshebang\u001b[0m\u001b[0;34m(\u001b[0m\u001b[0mline\u001b[0m\u001b[0;34m,\u001b[0m \u001b[0mcell\u001b[0m\u001b[0;34m)\u001b[0m\u001b[0;34m\u001b[0m\u001b[0;34m\u001b[0m\u001b[0m\n\u001b[0m\u001b[1;32m    143\u001b[0m \u001b[0;34m\u001b[0m\u001b[0m\n\u001b[1;32m    144\u001b[0m         \u001b[0;31m# write a basic docstring:\u001b[0m\u001b[0;34m\u001b[0m\u001b[0;34m\u001b[0m\u001b[0;34m\u001b[0m\u001b[0m\n",
      "\u001b[0;32m<decorator-gen-109>\u001b[0m in \u001b[0;36mshebang\u001b[0;34m(self, line, cell)\u001b[0m\n",
      "\u001b[0;32m~/.conda/envs/myenv/lib/python3.6/site-packages/IPython/core/magic.py\u001b[0m in \u001b[0;36m<lambda>\u001b[0;34m(f, *a, **k)\u001b[0m\n\u001b[1;32m    185\u001b[0m     \u001b[0;31m# but it's overkill for just that one bit of state.\u001b[0m\u001b[0;34m\u001b[0m\u001b[0;34m\u001b[0m\u001b[0;34m\u001b[0m\u001b[0m\n\u001b[1;32m    186\u001b[0m     \u001b[0;32mdef\u001b[0m \u001b[0mmagic_deco\u001b[0m\u001b[0;34m(\u001b[0m\u001b[0marg\u001b[0m\u001b[0;34m)\u001b[0m\u001b[0;34m:\u001b[0m\u001b[0;34m\u001b[0m\u001b[0;34m\u001b[0m\u001b[0m\n\u001b[0;32m--> 187\u001b[0;31m         \u001b[0mcall\u001b[0m \u001b[0;34m=\u001b[0m \u001b[0;32mlambda\u001b[0m \u001b[0mf\u001b[0m\u001b[0;34m,\u001b[0m \u001b[0;34m*\u001b[0m\u001b[0ma\u001b[0m\u001b[0;34m,\u001b[0m \u001b[0;34m**\u001b[0m\u001b[0mk\u001b[0m\u001b[0;34m:\u001b[0m \u001b[0mf\u001b[0m\u001b[0;34m(\u001b[0m\u001b[0;34m*\u001b[0m\u001b[0ma\u001b[0m\u001b[0;34m,\u001b[0m \u001b[0;34m**\u001b[0m\u001b[0mk\u001b[0m\u001b[0;34m)\u001b[0m\u001b[0;34m\u001b[0m\u001b[0;34m\u001b[0m\u001b[0m\n\u001b[0m\u001b[1;32m    188\u001b[0m \u001b[0;34m\u001b[0m\u001b[0m\n\u001b[1;32m    189\u001b[0m         \u001b[0;32mif\u001b[0m \u001b[0mcallable\u001b[0m\u001b[0;34m(\u001b[0m\u001b[0marg\u001b[0m\u001b[0;34m)\u001b[0m\u001b[0;34m:\u001b[0m\u001b[0;34m\u001b[0m\u001b[0;34m\u001b[0m\u001b[0m\n",
      "\u001b[0;32m~/.conda/envs/myenv/lib/python3.6/site-packages/IPython/core/magics/script.py\u001b[0m in \u001b[0;36mshebang\u001b[0;34m(self, line, cell)\u001b[0m\n\u001b[1;32m    243\u001b[0m             \u001b[0msys\u001b[0m\u001b[0;34m.\u001b[0m\u001b[0mstderr\u001b[0m\u001b[0;34m.\u001b[0m\u001b[0mflush\u001b[0m\u001b[0;34m(\u001b[0m\u001b[0;34m)\u001b[0m\u001b[0;34m\u001b[0m\u001b[0;34m\u001b[0m\u001b[0m\n\u001b[1;32m    244\u001b[0m         \u001b[0;32mif\u001b[0m \u001b[0margs\u001b[0m\u001b[0;34m.\u001b[0m\u001b[0mraise_error\u001b[0m \u001b[0;32mand\u001b[0m \u001b[0mp\u001b[0m\u001b[0;34m.\u001b[0m\u001b[0mreturncode\u001b[0m\u001b[0;34m!=\u001b[0m\u001b[0;36m0\u001b[0m\u001b[0;34m:\u001b[0m\u001b[0;34m\u001b[0m\u001b[0;34m\u001b[0m\u001b[0m\n\u001b[0;32m--> 245\u001b[0;31m             \u001b[0;32mraise\u001b[0m \u001b[0mCalledProcessError\u001b[0m\u001b[0;34m(\u001b[0m\u001b[0mp\u001b[0m\u001b[0;34m.\u001b[0m\u001b[0mreturncode\u001b[0m\u001b[0;34m,\u001b[0m \u001b[0mcell\u001b[0m\u001b[0;34m,\u001b[0m \u001b[0moutput\u001b[0m\u001b[0;34m=\u001b[0m\u001b[0mout\u001b[0m\u001b[0;34m,\u001b[0m \u001b[0mstderr\u001b[0m\u001b[0;34m=\u001b[0m\u001b[0merr\u001b[0m\u001b[0;34m)\u001b[0m\u001b[0;34m\u001b[0m\u001b[0;34m\u001b[0m\u001b[0m\n\u001b[0m\u001b[1;32m    246\u001b[0m \u001b[0;34m\u001b[0m\u001b[0m\n\u001b[1;32m    247\u001b[0m     \u001b[0;32mdef\u001b[0m \u001b[0m_run_script\u001b[0m\u001b[0;34m(\u001b[0m\u001b[0mself\u001b[0m\u001b[0;34m,\u001b[0m \u001b[0mp\u001b[0m\u001b[0;34m,\u001b[0m \u001b[0mcell\u001b[0m\u001b[0;34m,\u001b[0m \u001b[0mto_close\u001b[0m\u001b[0;34m)\u001b[0m\u001b[0;34m:\u001b[0m\u001b[0;34m\u001b[0m\u001b[0;34m\u001b[0m\u001b[0m\n",
      "\u001b[0;31mCalledProcessError\u001b[0m: Command 'b'./check_imaging_files.sh\\n'' returned non-zero exit status 126."
     ]
    }
   ],
   "source": [
    "%%bash\n",
    "./check_imaging_files.sh"
   ]
  },
  {
   "cell_type": "code",
   "execution_count": 1,
   "metadata": {},
   "outputs": [
    {
     "name": "stdout",
     "output_type": "stream",
     "text": [
      "9182328\n",
      "sub-aa01\n",
      "9182329\n",
      "sub-aa02\n",
      "9182330\n",
      "sub-ac01\n",
      "9182331\n",
      "sub-ac02\n",
      "9182332\n",
      "sub-co01\n",
      "9182333\n",
      "sub-co02\n",
      "9182334\n",
      "sub-co03\n",
      "9182335\n",
      "sub-lp01\n",
      "9182336\n",
      "sub-lp02\n"
     ]
    }
   ],
   "source": [
    "%%bash\n",
    "for subj in `ls -d sub-????`; do\n",
    "    cd $subj/anat\n",
    "    if [ ! -e *.anat/ ]; then\n",
    "         fsl_sub -q veryshort.q fsl_anat -i ${subj}_T1w.nii.gz --noreg --nononlinreg --noseg --nosubcortseg;\n",
    "         echo $subj\n",
    "    fi\n",
    "    cd ../../\n",
    "done\n"
   ]
  },
  {
   "cell_type": "code",
   "execution_count": 15,
   "metadata": {},
   "outputs": [
    {
     "name": "stdout",
     "output_type": "stream",
     "text": [
      "sub-aa01\n",
      "sub-aa02\n",
      "sub-aa03\n",
      "sub-ac01\n",
      "sub-ac02\n",
      "sub-co01\n",
      "sub-co02\n",
      "sub-co03\n",
      "sub-co04\n",
      "sub-co05\n",
      "sub-co06\n",
      "sub-co07\n",
      "sub-lp01\n",
      "sub-lp02\n"
     ]
    },
    {
     "name": "stderr",
     "output_type": "stream",
     "text": [
      "Image Exception : #63 :: No image files match: sub-aa03/model/glm/pros_videos/run1_nocatch.feat/reg/example_func\n",
      "Image Exception : #22 :: Failed to read volume sub-aa03/model/glm/pros_videos/run1_nocatch.feat/reg/example_func.nii.gz\n",
      "Error : No image files match: sub-aa03/model/glm/pros_videos/run1_nocatch.feat/reg/example_func\n",
      "Failed to read volume sub-aa03/model/glm/pros_videos/run1_nocatch.feat/reg/example_func.nii.gz\n",
      "Error : No image files match: sub-aa03/model/glm/pros_videos/run1_nocatch.feat/reg/example_func\n"
     ]
    }
   ],
   "source": [
    "%%bash\n",
    "cd /vols/Data/soma/superusers\n",
    "for subj in sub-????; do\n",
    "     flirt -in masks/thr3.1_n20_new/cluster_mask_PMd_diff_MNImask.nii.gz -ref ${subj}/model/glm/pros_videos/run1_nocatch.feat/reg/example_func.nii.gz -applyxfm -init ${subj}/model/glm/pros_videos/run1_nocatch.feat/reg/standard2example_func.mat -out ${subj}/model/masks/cluster_mask_PMd_diff_MNImask.nii.gz ;\n",
    "     echo $subj\n",
    "done\n",
    "    "
   ]
  },
  {
   "cell_type": "code",
   "execution_count": 19,
   "metadata": {},
   "outputs": [
    {
     "name": "stdout",
     "output_type": "stream",
     "text": [
      "sub-ac11\n",
      "9068180\n",
      "All done!\n"
     ]
    }
   ],
   "source": [
    "%%bash\n",
    "./code/midtransform_pros_runs.sh"
   ]
  },
  {
   "cell_type": "code",
   "execution_count": 2,
   "metadata": {},
   "outputs": [
    {
     "name": "stdout",
     "output_type": "stream",
     "text": [
      "sub-aa03\n",
      "sub-co01\n",
      "sub-co02\n",
      "sub-co03\n",
      "sub-co04\n",
      "sub-co05\n",
      "sub-co07\n",
      "sub-co09\n",
      "sub-co10\n",
      "sub-co11\n",
      "sub-co13\n",
      "sub-co14\n",
      "sub-co15\n",
      "sub-lp01\n",
      "sub-lp02\n",
      "sub-lp03\n",
      "sub-lp04\n",
      "sub-lp05\n",
      "sub-lp06\n",
      "sub-lp07\n"
     ]
    },
    {
     "name": "stderr",
     "output_type": "stream",
     "text": [
      "mkdir: cannot create directory ‘sub-co01/func/motion_assess’: File exists\n",
      "mkdir: cannot create directory ‘sub-co02/func/motion_assess’: File exists\n",
      "mkdir: cannot create directory ‘sub-co03/func/motion_assess’: File exists\n",
      "mkdir: cannot create directory ‘sub-co04/func/motion_assess’: File exists\n",
      "mkdir: cannot create directory ‘sub-co05/func/motion_assess’: File exists\n",
      "mkdir: cannot create directory ‘sub-co07/func/motion_assess’: File exists\n",
      "mkdir: cannot create directory ‘sub-co09/func/motion_assess’: File exists\n",
      "mkdir: cannot create directory ‘sub-co10/func/motion_assess’: File exists\n",
      "mkdir: cannot create directory ‘sub-co11/func/motion_assess’: File exists\n",
      "mkdir: cannot create directory ‘sub-co13/func/motion_assess’: File exists\n",
      "mkdir: cannot create directory ‘sub-co14/func/motion_assess’: File exists\n",
      "mkdir: cannot create directory ‘sub-co15/func/motion_assess’: File exists\n",
      "mkdir: cannot create directory ‘sub-lp01/func/motion_assess’: File exists\n",
      "mkdir: cannot create directory ‘sub-lp02/func/motion_assess’: File exists\n",
      "mkdir: cannot create directory ‘sub-lp03/func/motion_assess’: File exists\n",
      "mkdir: cannot create directory ‘sub-lp04/func/motion_assess’: File exists\n",
      "mkdir: cannot create directory ‘sub-lp05/func/motion_assess’: File exists\n",
      "mkdir: cannot create directory ‘sub-lp06/func/motion_assess’: File exists\n",
      "mkdir: cannot create directory ‘sub-lp07/func/motion_assess’: File exists\n"
     ]
    }
   ],
   "source": [
    "%%bash\n",
    "for subj in `ls -d sub-????`; do\n",
    "    mkdir ${subj}/func/motion_assess\n",
    "    echo ${subj}\n",
    "done\n"
   ]
  },
  {
   "cell_type": "code",
   "execution_count": 3,
   "metadata": {},
   "outputs": [
    {
     "name": "stdout",
     "output_type": "stream",
     "text": [
      "The command you have requested cannot be found or is not executable\n",
      "\n"
     ]
    },
    {
     "name": "stderr",
     "output_type": "stream",
     "text": [
      "bash: line 3: syntax error near unexpected token `done'\n",
      "bash: line 3: `done'\n"
     ]
    },
    {
     "ename": "CalledProcessError",
     "evalue": "Command 'b'fsl_sub -q veryshort.q check_motion_outliers.py sub-aa03\\necho \\ndone\\n'' returned non-zero exit status 2.",
     "output_type": "error",
     "traceback": [
      "\u001b[0;31m---------------------------------------------------------------------------\u001b[0m",
      "\u001b[0;31mCalledProcessError\u001b[0m                        Traceback (most recent call last)",
      "\u001b[0;32m<ipython-input-3-0cb12250df5a>\u001b[0m in \u001b[0;36m<module>\u001b[0;34m\u001b[0m\n\u001b[0;32m----> 1\u001b[0;31m \u001b[0mget_ipython\u001b[0m\u001b[0;34m(\u001b[0m\u001b[0;34m)\u001b[0m\u001b[0;34m.\u001b[0m\u001b[0mrun_cell_magic\u001b[0m\u001b[0;34m(\u001b[0m\u001b[0;34m'bash'\u001b[0m\u001b[0;34m,\u001b[0m \u001b[0;34m''\u001b[0m\u001b[0;34m,\u001b[0m \u001b[0;34m'fsl_sub -q veryshort.q check_motion_outliers.py sub-aa03\\necho \\ndone\\n'\u001b[0m\u001b[0;34m)\u001b[0m\u001b[0;34m\u001b[0m\u001b[0;34m\u001b[0m\u001b[0m\n\u001b[0m",
      "\u001b[0;32m~/.conda/envs/myenv/lib/python3.6/site-packages/IPython/core/interactiveshell.py\u001b[0m in \u001b[0;36mrun_cell_magic\u001b[0;34m(self, magic_name, line, cell)\u001b[0m\n\u001b[1;32m   2321\u001b[0m             \u001b[0mmagic_arg_s\u001b[0m \u001b[0;34m=\u001b[0m \u001b[0mself\u001b[0m\u001b[0;34m.\u001b[0m\u001b[0mvar_expand\u001b[0m\u001b[0;34m(\u001b[0m\u001b[0mline\u001b[0m\u001b[0;34m,\u001b[0m \u001b[0mstack_depth\u001b[0m\u001b[0;34m)\u001b[0m\u001b[0;34m\u001b[0m\u001b[0;34m\u001b[0m\u001b[0m\n\u001b[1;32m   2322\u001b[0m             \u001b[0;32mwith\u001b[0m \u001b[0mself\u001b[0m\u001b[0;34m.\u001b[0m\u001b[0mbuiltin_trap\u001b[0m\u001b[0;34m:\u001b[0m\u001b[0;34m\u001b[0m\u001b[0;34m\u001b[0m\u001b[0m\n\u001b[0;32m-> 2323\u001b[0;31m                 \u001b[0mresult\u001b[0m \u001b[0;34m=\u001b[0m \u001b[0mfn\u001b[0m\u001b[0;34m(\u001b[0m\u001b[0mmagic_arg_s\u001b[0m\u001b[0;34m,\u001b[0m \u001b[0mcell\u001b[0m\u001b[0;34m)\u001b[0m\u001b[0;34m\u001b[0m\u001b[0;34m\u001b[0m\u001b[0m\n\u001b[0m\u001b[1;32m   2324\u001b[0m             \u001b[0;32mreturn\u001b[0m \u001b[0mresult\u001b[0m\u001b[0;34m\u001b[0m\u001b[0;34m\u001b[0m\u001b[0m\n\u001b[1;32m   2325\u001b[0m \u001b[0;34m\u001b[0m\u001b[0m\n",
      "\u001b[0;32m~/.conda/envs/myenv/lib/python3.6/site-packages/IPython/core/magics/script.py\u001b[0m in \u001b[0;36mnamed_script_magic\u001b[0;34m(line, cell)\u001b[0m\n\u001b[1;32m    140\u001b[0m             \u001b[0;32melse\u001b[0m\u001b[0;34m:\u001b[0m\u001b[0;34m\u001b[0m\u001b[0;34m\u001b[0m\u001b[0m\n\u001b[1;32m    141\u001b[0m                 \u001b[0mline\u001b[0m \u001b[0;34m=\u001b[0m \u001b[0mscript\u001b[0m\u001b[0;34m\u001b[0m\u001b[0;34m\u001b[0m\u001b[0m\n\u001b[0;32m--> 142\u001b[0;31m             \u001b[0;32mreturn\u001b[0m \u001b[0mself\u001b[0m\u001b[0;34m.\u001b[0m\u001b[0mshebang\u001b[0m\u001b[0;34m(\u001b[0m\u001b[0mline\u001b[0m\u001b[0;34m,\u001b[0m \u001b[0mcell\u001b[0m\u001b[0;34m)\u001b[0m\u001b[0;34m\u001b[0m\u001b[0;34m\u001b[0m\u001b[0m\n\u001b[0m\u001b[1;32m    143\u001b[0m \u001b[0;34m\u001b[0m\u001b[0m\n\u001b[1;32m    144\u001b[0m         \u001b[0;31m# write a basic docstring:\u001b[0m\u001b[0;34m\u001b[0m\u001b[0;34m\u001b[0m\u001b[0;34m\u001b[0m\u001b[0m\n",
      "\u001b[0;32m<decorator-gen-109>\u001b[0m in \u001b[0;36mshebang\u001b[0;34m(self, line, cell)\u001b[0m\n",
      "\u001b[0;32m~/.conda/envs/myenv/lib/python3.6/site-packages/IPython/core/magic.py\u001b[0m in \u001b[0;36m<lambda>\u001b[0;34m(f, *a, **k)\u001b[0m\n\u001b[1;32m    185\u001b[0m     \u001b[0;31m# but it's overkill for just that one bit of state.\u001b[0m\u001b[0;34m\u001b[0m\u001b[0;34m\u001b[0m\u001b[0;34m\u001b[0m\u001b[0m\n\u001b[1;32m    186\u001b[0m     \u001b[0;32mdef\u001b[0m \u001b[0mmagic_deco\u001b[0m\u001b[0;34m(\u001b[0m\u001b[0marg\u001b[0m\u001b[0;34m)\u001b[0m\u001b[0;34m:\u001b[0m\u001b[0;34m\u001b[0m\u001b[0;34m\u001b[0m\u001b[0m\n\u001b[0;32m--> 187\u001b[0;31m         \u001b[0mcall\u001b[0m \u001b[0;34m=\u001b[0m \u001b[0;32mlambda\u001b[0m \u001b[0mf\u001b[0m\u001b[0;34m,\u001b[0m \u001b[0;34m*\u001b[0m\u001b[0ma\u001b[0m\u001b[0;34m,\u001b[0m \u001b[0;34m**\u001b[0m\u001b[0mk\u001b[0m\u001b[0;34m:\u001b[0m \u001b[0mf\u001b[0m\u001b[0;34m(\u001b[0m\u001b[0;34m*\u001b[0m\u001b[0ma\u001b[0m\u001b[0;34m,\u001b[0m \u001b[0;34m**\u001b[0m\u001b[0mk\u001b[0m\u001b[0;34m)\u001b[0m\u001b[0;34m\u001b[0m\u001b[0;34m\u001b[0m\u001b[0m\n\u001b[0m\u001b[1;32m    188\u001b[0m \u001b[0;34m\u001b[0m\u001b[0m\n\u001b[1;32m    189\u001b[0m         \u001b[0;32mif\u001b[0m \u001b[0mcallable\u001b[0m\u001b[0;34m(\u001b[0m\u001b[0marg\u001b[0m\u001b[0;34m)\u001b[0m\u001b[0;34m:\u001b[0m\u001b[0;34m\u001b[0m\u001b[0;34m\u001b[0m\u001b[0m\n",
      "\u001b[0;32m~/.conda/envs/myenv/lib/python3.6/site-packages/IPython/core/magics/script.py\u001b[0m in \u001b[0;36mshebang\u001b[0;34m(self, line, cell)\u001b[0m\n\u001b[1;32m    243\u001b[0m             \u001b[0msys\u001b[0m\u001b[0;34m.\u001b[0m\u001b[0mstderr\u001b[0m\u001b[0;34m.\u001b[0m\u001b[0mflush\u001b[0m\u001b[0;34m(\u001b[0m\u001b[0;34m)\u001b[0m\u001b[0;34m\u001b[0m\u001b[0;34m\u001b[0m\u001b[0m\n\u001b[1;32m    244\u001b[0m         \u001b[0;32mif\u001b[0m \u001b[0margs\u001b[0m\u001b[0;34m.\u001b[0m\u001b[0mraise_error\u001b[0m \u001b[0;32mand\u001b[0m \u001b[0mp\u001b[0m\u001b[0;34m.\u001b[0m\u001b[0mreturncode\u001b[0m\u001b[0;34m!=\u001b[0m\u001b[0;36m0\u001b[0m\u001b[0;34m:\u001b[0m\u001b[0;34m\u001b[0m\u001b[0;34m\u001b[0m\u001b[0m\n\u001b[0;32m--> 245\u001b[0;31m             \u001b[0;32mraise\u001b[0m \u001b[0mCalledProcessError\u001b[0m\u001b[0;34m(\u001b[0m\u001b[0mp\u001b[0m\u001b[0;34m.\u001b[0m\u001b[0mreturncode\u001b[0m\u001b[0;34m,\u001b[0m \u001b[0mcell\u001b[0m\u001b[0;34m,\u001b[0m \u001b[0moutput\u001b[0m\u001b[0;34m=\u001b[0m\u001b[0mout\u001b[0m\u001b[0;34m,\u001b[0m \u001b[0mstderr\u001b[0m\u001b[0;34m=\u001b[0m\u001b[0merr\u001b[0m\u001b[0;34m)\u001b[0m\u001b[0;34m\u001b[0m\u001b[0;34m\u001b[0m\u001b[0m\n\u001b[0m\u001b[1;32m    246\u001b[0m \u001b[0;34m\u001b[0m\u001b[0m\n\u001b[1;32m    247\u001b[0m     \u001b[0;32mdef\u001b[0m \u001b[0m_run_script\u001b[0m\u001b[0;34m(\u001b[0m\u001b[0mself\u001b[0m\u001b[0;34m,\u001b[0m \u001b[0mp\u001b[0m\u001b[0;34m,\u001b[0m \u001b[0mcell\u001b[0m\u001b[0;34m,\u001b[0m \u001b[0mto_close\u001b[0m\u001b[0;34m)\u001b[0m\u001b[0;34m:\u001b[0m\u001b[0;34m\u001b[0m\u001b[0;34m\u001b[0m\u001b[0m\n",
      "\u001b[0;31mCalledProcessError\u001b[0m: Command 'b'fsl_sub -q veryshort.q check_motion_outliers.py sub-aa03\\necho \\ndone\\n'' returned non-zero exit status 2."
     ]
    }
   ],
   "source": [
    "%%bash\n",
    "fsl_sub -q veryshort.q check_motion_outliers.py sub-aa03\n",
    "echo \n",
    "done"
   ]
  },
  {
   "cell_type": "code",
   "execution_count": 4,
   "metadata": {},
   "outputs": [
    {
     "name": "stdout",
     "output_type": "stream",
     "text": [
      "The command you have requested cannot be found or is not executable\n",
      "sub-aa01\n",
      "The command you have requested cannot be found or is not executable\n",
      "sub-aa02\n",
      "The command you have requested cannot be found or is not executable\n",
      "sub-ac01\n",
      "The command you have requested cannot be found or is not executable\n",
      "sub-ac02\n",
      "The command you have requested cannot be found or is not executable\n",
      "sub-co01\n",
      "The command you have requested cannot be found or is not executable\n",
      "sub-co02\n",
      "The command you have requested cannot be found or is not executable\n",
      "sub-co03\n",
      "The command you have requested cannot be found or is not executable\n",
      "sub-co04\n",
      "The command you have requested cannot be found or is not executable\n",
      "sub-co05\n",
      "The command you have requested cannot be found or is not executable\n",
      "sub-co06\n",
      "The command you have requested cannot be found or is not executable\n",
      "sub-co07\n",
      "The command you have requested cannot be found or is not executable\n",
      "sub-co08\n",
      "The command you have requested cannot be found or is not executable\n",
      "sub-co09\n",
      "The command you have requested cannot be found or is not executable\n",
      "sub-co10\n",
      "The command you have requested cannot be found or is not executable\n",
      "sub-co11\n",
      "The command you have requested cannot be found or is not executable\n",
      "sub-co12\n",
      "The command you have requested cannot be found or is not executable\n",
      "sub-co13\n",
      "The command you have requested cannot be found or is not executable\n",
      "sub-co14\n",
      "The command you have requested cannot be found or is not executable\n",
      "sub-co15\n",
      "The command you have requested cannot be found or is not executable\n",
      "sub-lp01\n",
      "The command you have requested cannot be found or is not executable\n",
      "sub-lp02\n",
      "The command you have requested cannot be found or is not executable\n",
      "sub-lp03\n",
      "The command you have requested cannot be found or is not executable\n",
      "sub-lp04\n",
      "The command you have requested cannot be found or is not executable\n",
      "sub-lp05\n",
      "The command you have requested cannot be found or is not executable\n",
      "sub-lp06\n",
      "The command you have requested cannot be found or is not executable\n",
      "sub-lp07\n"
     ]
    }
   ],
   "source": [
    "%%bash\n",
    "for subj in `ls -d sub-????`; do\n",
    "    fsl_sub -q veryshort.q check_motion_outliers.py $subj\n",
    "    echo $subj\n",
    "done"
   ]
  },
  {
   "cell_type": "code",
   "execution_count": 6,
   "metadata": {},
   "outputs": [
    {
     "ename": "ModuleNotFoundError",
     "evalue": "No module named 'mako'",
     "output_type": "error",
     "traceback": [
      "\u001b[0;31m---------------------------------------------------------------------------\u001b[0m",
      "\u001b[0;31mModuleNotFoundError\u001b[0m                       Traceback (most recent call last)",
      "\u001b[0;32m<ipython-input-6-0f713b429f2c>\u001b[0m in \u001b[0;36m<module>\u001b[0;34m\u001b[0m\n\u001b[0;32m----> 1\u001b[0;31m \u001b[0;32mfrom\u001b[0m \u001b[0mmako\u001b[0m\u001b[0;34m.\u001b[0m\u001b[0mtemplate\u001b[0m \u001b[0;32mimport\u001b[0m \u001b[0mTemplate\u001b[0m\u001b[0;34m\u001b[0m\u001b[0;34m\u001b[0m\u001b[0m\n\u001b[0m\u001b[1;32m      2\u001b[0m \u001b[0;32mimport\u001b[0m \u001b[0mjson\u001b[0m\u001b[0;34m\u001b[0m\u001b[0;34m\u001b[0m\u001b[0m\n\u001b[1;32m      3\u001b[0m \u001b[0;32mimport\u001b[0m \u001b[0msys\u001b[0m\u001b[0;34m\u001b[0m\u001b[0;34m\u001b[0m\u001b[0m\n\u001b[1;32m      4\u001b[0m \u001b[0;32mimport\u001b[0m \u001b[0mos\u001b[0m\u001b[0;34m\u001b[0m\u001b[0;34m\u001b[0m\u001b[0m\n\u001b[1;32m      5\u001b[0m \u001b[0;32mfrom\u001b[0m \u001b[0mglob\u001b[0m \u001b[0;32mimport\u001b[0m \u001b[0mglob\u001b[0m\u001b[0;34m\u001b[0m\u001b[0;34m\u001b[0m\u001b[0m\n",
      "\u001b[0;31mModuleNotFoundError\u001b[0m: No module named 'mako'"
     ]
    }
   ],
   "source": [
    "from mako.template import Template\n",
    "import json\n",
    "import sys\n",
    "import os\n",
    "from glob import glob\n",
    "\n",
    "cfg={}\n",
    "cfg['subjects'] = glob('sub-????')\n",
    "cfg['run_names'] = ['1','2','3','4']\n",
    "cfg['task_name'] = 'pros_videos'\n",
    "cfg['template_name'] = 'pros_nocatch'\n",
    "\n",
    "path = os.getcwd()\n",
    "subjects = cfg['subjects']\n",
    "runs = cfg['run_names']\n",
    "template_file_name = cfg['template_name']\n",
    "glm_dir = 'model/glm/{}/{}'.format(cfg['task_name'],template_file_name)\n",
    "lev1_fsf_file = 'model/glm/{}/{}.fsf'.format(cfg['task_name'],template_file_name)\n",
    "template = Template(filename=lev1_fsf_file)\n",
    "for sub_code in subjects:\n",
    "    print(sub_code)\n",
    "    lev1_dir = '{}/{}/'.format(sub_code,glm_dir)\n",
    "    if not os.path.exists(lev1_dir):\n",
    "        os.makedirs(lev1_dir)\n",
    "    for run_name in runs:\n",
    "        fsf_txt = template.render(sub_code=sub_code,run_number=run_name)\n",
    "        with open('{}/{}.fsf'.format(lev1_dir,run_name),'w') as f:\n",
    "            f.write(fsf_txt)\n",
    "            print(\"{} {}\".format(sub_code,run_name))"
   ]
  },
  {
   "cell_type": "code",
   "execution_count": 14,
   "metadata": {},
   "outputs": [
    {
     "name": "stdout",
     "output_type": "stream",
     "text": [
      "sub-aa01\n",
      "sub-aa02\n",
      "sub-aa03\n",
      "sub-aa04\n",
      "sub-aa05\n",
      "sub-aa06\n",
      "sub-aa07\n",
      "sub-aa10\n",
      "sub-aa11\n",
      "sub-aa12\n",
      "sub-aa13\n",
      "sub-aa14\n",
      "sub-aa15\n",
      "sub-aa16\n",
      "sub-aa18\n",
      "sub-aa20\n",
      "sub-ac01\n",
      "sub-ac02\n",
      "sub-ac03\n",
      "sub-ac04\n",
      "sub-ac05\n",
      "sub-ac06\n",
      "sub-ac07\n",
      "sub-ac08\n",
      "sub-ac09\n",
      "sub-ac10\n",
      "sub-ac11\n",
      "sub-ac12\n",
      "sub-ac13\n",
      "sub-ac14\n",
      "sub-ac15\n",
      "sub-ac16\n",
      "sub-ac17\n",
      "sub-ac18\n",
      "sub-ac20\n",
      "sub-ac21\n",
      "sub-ac22\n",
      "sub-ac23\n",
      "sub-ac25\n",
      "sub-co01\n",
      "sub-co03\n",
      "sub-co04\n",
      "sub-co05\n",
      "sub-co06\n",
      "sub-co07\n",
      "sub-co08\n",
      "sub-co09\n",
      "sub-co10\n",
      "sub-co11\n",
      "sub-co12\n",
      "sub-co13\n",
      "sub-co14\n",
      "sub-co15\n",
      "sub-co16\n",
      "sub-co17\n"
     ]
    }
   ],
   "source": [
    "%%bash\n",
    "for subj in `ls -d sub-????`; do\n",
    "    if [ ! -e ${subj}/model/glm/pros/run1_nocatch.feat ]; then\n",
    "         ls ${subj}/model/glm/pros/pros_nocatch/*.fsf | xargs -L1 feat\n",
    "         echo $subj\n",
    "    fi\n",
    "done\n",
    "\n"
   ]
  }
 ],
 "metadata": {
  "kernelspec": {
   "display_name": "Python 3",
   "language": "python",
   "name": "python3"
  },
  "language_info": {
   "codemirror_mode": {
    "name": "ipython",
    "version": 3
   },
   "file_extension": ".py",
   "mimetype": "text/x-python",
   "name": "python",
   "nbconvert_exporter": "python",
   "pygments_lexer": "ipython3",
   "version": "3.6.8"
  }
 },
 "nbformat": 4,
 "nbformat_minor": 2
}
