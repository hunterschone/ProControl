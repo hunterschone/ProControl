{
 "cells": [
  {
   "cell_type": "code",
   "execution_count": 2,
   "metadata": {},
   "outputs": [],
   "source": [
    "%%bash\n",
    "cd /vols/Data/soma/superusers\n",
    "for subj in sub-????; do\n",
    "    fslmaths ${subj}/model/masks/top200hemi/parietal_tools_neurosynth_left_edit_MNI.nii.gz -add ${subj}/model/masks/top200hemi/juelich_V1_L_all_MNI.nii.gz masks/final_V1_subj_masks/${subj}_V1_bi_200voxels.nii.gz\n",
    "done"
   ]
  },
  {
   "cell_type": "code",
   "execution_count": null,
   "metadata": {},
   "outputs": [],
   "source": [
    "masks/tools_neurosynth/premotor_cortex_L_79voxels"
   ]
  },
  {
   "cell_type": "code",
   "execution_count": 29,
   "metadata": {},
   "outputs": [],
   "source": [
    "%%bash\n",
    "fslmerge -t /vols/Data/soma/superusers/masks/probabilitymaps/Lpar_group_maps/Lpar_hands_tools_BOT_top200_4D.nii.gz /vols/Data/soma/superusers/sub-????/model/masks/top200hemi/parietal_BOT_lhemi_MNI.nii.gz\n",
    "#run the next line in terminal\n",
    "#fslmaths /vols/Data/soma/superusers/masks/probabiltiymaps/V1_bi_all-subjects_4D.nii.gz -Tmean /vols/Data/soma/superusers/masks/probabilitymaps/V1_bi_mean.nii.gz"
   ]
  },
  {
   "cell_type": "code",
   "execution_count": null,
   "metadata": {},
   "outputs": [],
   "source": [
    "%%bash\n",
    "fslmerge -t /vols/Data/soma/superusers/masks/probabilitymaps/PMv_L_top100_4D.nii.gz /vols/Data/soma/superusers/sub-????/model/masks/top100hemi/PMv_L_MNI.nii.gz\n",
    "#run the next line in terminal\n",
    "#fslmaths /vols/Data/soma/superusers/masks/probabiltiymaps/V1_bi_all-subjects_4D.nii.gz -Tmean /vols/Data/soma/superusers/masks/probabilitymaps/V1_bi_mean.nii.gz"
   ]
  }
 ],
 "metadata": {
  "kernelspec": {
   "display_name": "Python 3",
   "language": "python",
   "name": "python3"
  },
  "language_info": {
   "codemirror_mode": {
    "name": "ipython",
    "version": 3
   },
   "file_extension": ".py",
   "mimetype": "text/x-python",
   "name": "python",
   "nbconvert_exporter": "python",
   "pygments_lexer": "ipython3",
   "version": "3.7.6"
  }
 },
 "nbformat": 4,
 "nbformat_minor": 4
}
