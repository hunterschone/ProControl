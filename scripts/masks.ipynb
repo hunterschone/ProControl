{
 "cells": [
  {
   "cell_type": "code",
   "execution_count": 9,
   "metadata": {},
   "outputs": [
    {
     "name": "stdout",
     "output_type": "stream",
     "text": [
      "Using matplotlib backend: Qt5Agg\n",
      "Populating the interactive namespace from numpy and matplotlib\n"
     ]
    }
   ],
   "source": [
    "%matplotlib inline\n",
    "import matplotlib.pyplot as plt\n",
    "from glob import glob\n",
    "import nibabel as nib\n",
    "from scipy import stats\n",
    "import numpy as np\n",
    "import pandas as pd\n",
    "from matplotlib import pyplot as plt\n",
    "%pylab"
   ]
  },
  {
   "cell_type": "markdown",
   "metadata": {},
   "source": [
    "### Step 1: Transform Mask from MNI space to run1 functional space"
   ]
  },
  {
   "cell_type": "code",
   "execution_count": 15,
   "metadata": {},
   "outputs": [
    {
     "name": "stdout",
     "output_type": "stream",
     "text": [
      "post\n"
     ]
    },
    {
     "name": "stderr",
     "output_type": "stream",
     "text": [
      "Warning: An input intended to be a single 3D volume has multiple timepoints. Input will be truncated to first volume, but this functionality is deprecated and will be removed in a future release.\n"
     ]
    }
   ],
   "source": [
    "%%bash\n",
    "cd /vols/Data/soma/superusers/ProControl\n",
    "maskpath=/vols/Data/soma/superusers/ProControl/model/masks\n",
    "mask=Rhemi_bin\n",
    "mask_xform=Rhemi_run1\n",
    "\n",
    "for subj in sub-ar04; do\n",
    "    for sess in post; do\n",
    "        echo $sess\n",
    "        lev1_dir=/vols/Data/soma/superusers/ProControl/${subj}/$sess\n",
    "        flirt -in ${maskpath}/${mask}.nii.gz -applyxfm -init ${lev1_dir}/model/glm/moveview/run1.feat/reg/standard2example_func.mat -out ${lev1_dir}/model/masks/${mask_xform}.nii.gz -interp nearestneighbour -ref ${lev1_dir}/func/${subj}_task_run-1_ref.nii.gz;\n",
    "    done\n",
    "done"
   ]
  },
  {
   "cell_type": "markdown",
   "metadata": {},
   "source": [
    "### Step 1B: Moving a BOT mask to run1 func space"
   ]
  },
  {
   "cell_type": "code",
   "execution_count": 66,
   "metadata": {},
   "outputs": [
    {
     "name": "stderr",
     "output_type": "stream",
     "text": [
      "Warning: An input intended to be a single 3D volume has multiple timepoints. Input will be truncated to first volume, but this functionality is deprecated and will be removed in a future release.\n"
     ]
    }
   ],
   "source": [
    "%%bash\n",
    "cd /vols/Data/soma/superusers/ProControl\n",
    "mask=cluster_mask_LOTC_diff_MNImask\n",
    "mask_xform=OTC_BOT_n20\n",
    "lev1_dir=/vols/Data/soma/superusers/ProControl/sub-ar01/pre\n",
    "OG_dir=/vols/Data/soma/superusers/masks/thr3.1_n20_new/bilateral\n",
    "\n",
    "for subj in sub-ar01; do\n",
    "    flirt -in ${OG_dir}/${mask}.nii.gz -applyxfm -init ${lev1_dir}/model/glm/moveview/run1_v2.feat/reg/standard2example_func.mat -out ${lev1_dir}/model/masks/${mask_xform}.nii.gz -interp nearestneighbour -ref ${lev1_dir}/func/${subj}_task_run-1_ref.nii.gz;\n",
    "done"
   ]
  },
  {
   "cell_type": "code",
   "execution_count": 19,
   "metadata": {},
   "outputs": [
    {
     "name": "stderr",
     "output_type": "stream",
     "text": [
      "Warning: An input intended to be a single 3D volume has multiple timepoints. Input will be truncated to first volume, but this functionality is deprecated and will be removed in a future release.\n"
     ]
    }
   ],
   "source": [
    "%%bash\n",
    "cd /vols/Data/soma/superusers/ProControl\n",
    "mask=Rhemi_run1\n",
    "mask_xform=Rhemi_inmidsp\n",
    "\n",
    "for subj in sub-ar05; do\n",
    "    lev1_dir=/vols/Data/soma/superusers/ProControl/${subj}/pre\n",
    "    flirt -in ${lev1_dir}/model/masks/${mask}.nii.gz -applyxfm -init ${lev1_dir}/func/${subj}_task_run-1_ref_to_midsp.mat -out ${lev1_dir}/model/masks/${mask_xform}.nii.gz -interp nearestneighbour -ref ${lev1_dir}/func/Midtrans.nii.gz;\n",
    "done"
   ]
  },
  {
   "cell_type": "markdown",
   "metadata": {},
   "source": [
    "### Step 2: Transform Mask from run1 functional space to midspace"
   ]
  },
  {
   "cell_type": "code",
   "execution_count": 67,
   "metadata": {},
   "outputs": [
    {
     "name": "stdout",
     "output_type": "stream",
     "text": [
      "pre\n",
      "post\n"
     ]
    }
   ],
   "source": [
    "%%bash\n",
    "cd /vols/Data/soma/superusers/ProControl\n",
    "mask=OTC_BOT_n20\n",
    "mask_xform=OTC_BOT_n20_visloc_inmidsp\n",
    "\n",
    "for subj in sub-ar01; do\n",
    "    for sess in pre post; do\n",
    "        echo $sess\n",
    "        lev1_dir=/vols/Data/soma/superusers/ProControl/${subj}/$sess\n",
    "        flirt -in ${lev1_dir}/model/masks/${mask}.nii.gz -applyxfm -init ${lev1_dir}/func/${subj}_task_run-1_ref_to_midsp.mat -out ${lev1_dir}/model/masks/${mask_xform}.nii.gz -interp nearestneighbour -ref ${lev1_dir}/func/Midtrans.nii.gz;\n",
    "    done\n",
    "done"
   ]
  },
  {
   "cell_type": "markdown",
   "metadata": {},
   "source": [
    "## Identify the number of active voxels from a zstat within a mask"
   ]
  },
  {
   "cell_type": "markdown",
   "metadata": {},
   "source": [
    "### Step 1: Transform mask to visloc space"
   ]
  },
  {
   "cell_type": "code",
   "execution_count": 122,
   "metadata": {},
   "outputs": [
    {
     "name": "stdout",
     "output_type": "stream",
     "text": [
      "pre\n"
     ]
    },
    {
     "name": "stderr",
     "output_type": "stream",
     "text": [
      "Warning: An input intended to be a single 3D volume has multiple timepoints. Input will be truncated to first volume, but this functionality is deprecated and will be removed in a future release.\n"
     ]
    }
   ],
   "source": [
    "%%bash\n",
    "cd /vols/Data/soma/superusers/ProControl\n",
    "mask=cluster_mask_LOTC_diff_MNImask\n",
    "mask_xform=OTC_BOT_n20_visloc\n",
    "\n",
    "for subj in sub-ar03; do\n",
    "    for sess in pre; do\n",
    "        echo $sess\n",
    "        lev1_dir=/vols/Data/soma/superusers/ProControl/${subj}/$sess\n",
    "        OG_dir=/vols/Data/soma/superusers/masks/thr3.1_n20_new/bilateral\n",
    "        \n",
    "        flirt -in ${OG_dir}/${mask}.nii.gz -applyxfm -init ${lev1_dir}/model/glm/vis/visloc.feat/reg/standard2example_func.mat -out ${lev1_dir}/model/masks/${mask_xform}.nii.gz -interp nearestneighbour -ref ${lev1_dir}/func/${subj}_task_hand-tool_localizer_ref.nii.gz;\n",
    "    done\n",
    "done"
   ]
  },
  {
   "cell_type": "markdown",
   "metadata": {},
   "source": [
    "### Step 2: Define subjects"
   ]
  },
  {
   "cell_type": "code",
   "execution_count": 123,
   "metadata": {},
   "outputs": [],
   "source": [
    "sessions = ['pre']"
   ]
  },
  {
   "cell_type": "markdown",
   "metadata": {},
   "source": [
    "### Step 3: Identify most active voxels in OTC"
   ]
  },
  {
   "cell_type": "code",
   "execution_count": 124,
   "metadata": {},
   "outputs": [
    {
     "name": "stdout",
     "output_type": "stream",
     "text": [
      "/vols/Data/soma/superusers/ProControl/sub-ar03/pre/model/masks/OTC_top200/OTC_BOT_n20_visloc.nii.gz\n"
     ]
    },
    {
     "name": "stderr",
     "output_type": "stream",
     "text": [
      "/home/fs0/hschone/anaconda3/envs/myenv/lib/python3.7/site-packages/ipykernel_launcher.py:4: DeprecationWarning: get_data() is deprecated in favor of get_fdata(), which has a more predictable return type. To obtain get_data() behavior going forward, use numpy.asanyarray(img.dataobj).\n",
      "\n",
      "* deprecated from version: 3.0\n",
      "* Will raise <class 'nibabel.deprecator.ExpiredDeprecationError'> as of version: 5.0\n",
      "  after removing the cwd from sys.path.\n",
      "/home/fs0/hschone/anaconda3/envs/myenv/lib/python3.7/site-packages/ipykernel_launcher.py:5: DeprecationWarning: get_data() is deprecated in favor of get_fdata(), which has a more predictable return type. To obtain get_data() behavior going forward, use numpy.asanyarray(img.dataobj).\n",
      "\n",
      "* deprecated from version: 3.0\n",
      "* Will raise <class 'nibabel.deprecator.ExpiredDeprecationError'> as of version: 5.0\n",
      "  \"\"\"\n"
     ]
    }
   ],
   "source": [
    "for sess in sessions:\n",
    "    nii = nib.load('/vols/Data/soma/superusers/ProControl/sub-ar03/{sess}/model/glm/vis/visloc.feat/stats/zstat19.nii.gz'.format(sess=sess))\n",
    "    mask = nib.load('/vols/Data/soma/superusers/ProControl/sub-ar03/{sess}/model/masks/OTC_BOT_n20_visloc.nii.gz'.format(sess=sess))\n",
    "    maskdata = mask.get_data()\n",
    "    zstat = nii.get_data()\n",
    "    zstat[maskdata==0] = 0 \n",
    "    zstat_list = zstat[zstat>0]\n",
    "    zstat_list[::-1].sort()\n",
    "    thr = zstat_list[200]\n",
    "    mask = zstat > thr\n",
    "    nib.save(nib.Nifti1Image(mask,nii.affine, header=nii.header),'/vols/Data/soma/superusers/ProControl/sub-ar03/{sess}/model/masks/OTC_top200/OTC_BOT_n20_visloc.nii.gz'.format(sess=sess))\n",
    "    print('/vols/Data/soma/superusers/ProControl/sub-ar03/{sess}/model/masks/OTC_top200/OTC_BOT_n20_visloc.nii.gz'.format(sess=sess))"
   ]
  },
  {
   "cell_type": "markdown",
   "metadata": {},
   "source": [
    "### Step 4: Transform Visloc Mask back to MNI space"
   ]
  },
  {
   "cell_type": "code",
   "execution_count": 141,
   "metadata": {},
   "outputs": [
    {
     "name": "stdout",
     "output_type": "stream",
     "text": [
      "post\n"
     ]
    }
   ],
   "source": [
    "%%bash\n",
    "cd /vols/Data/soma/superusers/ProControl/\n",
    "mask=OTC_BOT_n20_visloc\n",
    "mask_xform=OTC_BOT_n20_visloc_MNI\n",
    "\n",
    "for subj in sub-ar05; do\n",
    "    for sess in post; do\n",
    "        echo $sess\n",
    "        flirt -in ${subj}/${sess}/model/masks/OTC_top200/${mask}.nii.gz -applyxfm -init ${subj}/${sess}/model/glm/visloc/visloc.feat/reg/example_func2standard.mat -out ${subj}/${sess}/model/masks/OTC_top200/${mask_xform}.nii.gz -interp nearestneighbour -ref /opt/fmrib/fsl/data/standard/MNI152_T1_2mm.nii.gz;\n",
    "    done\n",
    "done"
   ]
  },
  {
   "cell_type": "markdown",
   "metadata": {},
   "source": [
    "### Step 5: Transform visloc mask in MNI space to functional run1 space"
   ]
  },
  {
   "cell_type": "code",
   "execution_count": 142,
   "metadata": {},
   "outputs": [
    {
     "name": "stdout",
     "output_type": "stream",
     "text": [
      "post\n"
     ]
    },
    {
     "name": "stderr",
     "output_type": "stream",
     "text": [
      "Warning: An input intended to be a single 3D volume has multiple timepoints. Input will be truncated to first volume, but this functionality is deprecated and will be removed in a future release.\n"
     ]
    }
   ],
   "source": [
    "%%bash\n",
    "cd /vols/Data/soma/superusers/ProControl\n",
    "mask=OTC_BOT_n20_visloc_MNI\n",
    "mask_xform=OTC_BOT_n20_visloc_run1\n",
    "\n",
    "for subj in sub-ar05; do\n",
    "    for sess in post; do\n",
    "        echo $sess\n",
    "        lev1_dir=/vols/Data/soma/superusers/ProControl/${subj}/$sess\n",
    "        flirt -in ${lev1_dir}/model/masks/OTC_top200/${mask}.nii.gz -applyxfm -init ${lev1_dir}/model/glm/moveview/run1.feat/reg/standard2example_func.mat -out ${lev1_dir}/model/masks/OTC_top200/${mask_xform}.nii.gz -interp nearestneighbour -ref ${lev1_dir}/func/${subj}_task_run-1_ref.nii.gz;\n",
    "    done\n",
    "done"
   ]
  },
  {
   "cell_type": "markdown",
   "metadata": {},
   "source": [
    "### Step 6: Transform visloc func run1 space mask to midspace"
   ]
  },
  {
   "cell_type": "code",
   "execution_count": 143,
   "metadata": {},
   "outputs": [
    {
     "name": "stdout",
     "output_type": "stream",
     "text": [
      "post\n"
     ]
    },
    {
     "name": "stderr",
     "output_type": "stream",
     "text": [
      "Warning: An input intended to be a single 3D volume has multiple timepoints. Input will be truncated to first volume, but this functionality is deprecated and will be removed in a future release.\n"
     ]
    }
   ],
   "source": [
    "%%bash\n",
    "cd /vols/Data/soma/superusers/ProControl\n",
    "mask=OTC_BOT_n20_visloc_run1\n",
    "mask_xform=OTC_BOT_n20_visloc_inmidsp\n",
    "\n",
    "for subj in sub-ar05; do\n",
    "    for sess in post; do\n",
    "        echo $sess\n",
    "        lev1_dir=/vols/Data/soma/superusers/ProControl/${subj}/$sess\n",
    "        flirt -in ${lev1_dir}/model/masks/OTC_top200/${mask}.nii.gz -applyxfm -init ${lev1_dir}/func/${subj}_task_run-1_ref_to_midsp.mat -out ${lev1_dir}/model/masks/OTC_top200/${mask_xform}.nii.gz -interp nearestneighbour -ref ${lev1_dir}/func/Midtrans.nii.gz;\n",
    "    done\n",
    "done"
   ]
  },
  {
   "cell_type": "markdown",
   "metadata": {},
   "source": [
    "### Step 7: Transform visloc func run1 to MNI -- to put on surface"
   ]
  },
  {
   "cell_type": "code",
   "execution_count": 146,
   "metadata": {},
   "outputs": [
    {
     "name": "stdout",
     "output_type": "stream",
     "text": [
      "post\n"
     ]
    }
   ],
   "source": [
    "%%bash\n",
    "cd /vols/Data/soma/superusers/ProControl\n",
    "mask=OTC_BOT_n20_visloc_run1\n",
    "mask_xform=OTC_BOT_n20_visloc_top200_MNI\n",
    "\n",
    "for subj in sub-ar01; do\n",
    "    for sess in post; do\n",
    "        echo $sess\n",
    "        lev1_dir=/vols/Data/soma/superusers/ProControl/${subj}/$sess\n",
    "        flirt -in ${lev1_dir}/model/masks/OTC_top200/${mask}.nii.gz -applyxfm -init ${subj}/${sess}/model/glm/moveview/run1_v2.feat/reg/example_func2standard.mat -out ${lev1_dir}/model/masks/OTC_top200/${mask_xform}.nii.gz -interp nearestneighbour -ref /opt/fmrib/fsl/data/standard/MNI152_T1_2mm.nii.gz;\n",
    "    done\n",
    "done"
   ]
  },
  {
   "cell_type": "code",
   "execution_count": null,
   "metadata": {},
   "outputs": [],
   "source": []
  },
  {
   "cell_type": "code",
   "execution_count": null,
   "metadata": {},
   "outputs": [],
   "source": []
  },
  {
   "cell_type": "code",
   "execution_count": null,
   "metadata": {},
   "outputs": [],
   "source": []
  },
  {
   "cell_type": "code",
   "execution_count": null,
   "metadata": {},
   "outputs": [],
   "source": []
  },
  {
   "cell_type": "code",
   "execution_count": null,
   "metadata": {},
   "outputs": [],
   "source": []
  },
  {
   "cell_type": "markdown",
   "metadata": {},
   "source": [
    "### Transforming MNI Masks from FIONA Hand-Tool Localiser to Visloc Run Subject Space"
   ]
  },
  {
   "cell_type": "code",
   "execution_count": 142,
   "metadata": {},
   "outputs": [
    {
     "name": "stdout",
     "output_type": "stream",
     "text": [
      "sub-co01\n",
      "sub-co02\n",
      "sub-co03\n",
      "sub-co04\n",
      "sub-co05\n",
      "sub-co07\n",
      "sub-co09\n",
      "sub-co10\n",
      "sub-co11\n",
      "sub-co13\n",
      "sub-co14\n",
      "sub-co15\n",
      "sub-lp01\n",
      "sub-lp02\n",
      "sub-lp03\n",
      "sub-lp04\n",
      "sub-lp05\n",
      "sub-lp06\n",
      "sub-lp07\n"
     ]
    }
   ],
   "source": [
    "%%bash\n",
    "cd /vols/Data/soma/superusers/ProControl\n",
    "for subj in sub-??; do \n",
    "    flirt -in ../masks/thr3.1_n20_new/cluster_mask_L_IPS_diff_MNImask.nii.gz -applyxfm -init ${subj}/model/glm/visloc/visloc.feat/reg/standard2example_func.mat -out ${subj}/model/masks/parietal_BOT_n20_lhemi_subjspace.nii.gz -interp nearestneighbour -ref ${subj}/func/${subj}_task-visloc_bold_ref.nii.gz ;\n",
    "    echo $subj\n",
    "done"
   ]
  },
  {
   "cell_type": "code",
   "execution_count": 71,
   "metadata": {},
   "outputs": [
    {
     "name": "stdout",
     "output_type": "stream",
     "text": [
      "sub-lp01\n",
      "sub-lp02\n",
      "sub-lp03\n",
      "sub-lp04\n",
      "sub-lp05\n",
      "sub-lp06\n",
      "sub-lp07\n"
     ]
    }
   ],
   "source": [
    "%%bash\n",
    "cd /vols/Data/soma/superusers/\n",
    "for subj in sub-lp{01..07}; do \n",
    "    flirt -in masks/IPS_thr30_mask_L.nii.gz -applyxfm -init ${subj}/model/glm/visloc/visloc.feat/reg/standard2example_func.mat -out ${subj}/model/masks/IPS_L_subjspace.nii.gz -interp nearestneighbour -ref ${subj}/func/${subj}_task-visloc_bold_ref.nii.gz ;\n",
    "    flirt -in masks/IPS_thr30_mask_R.nii.gz -applyxfm -init ${subj}/model/glm/visloc/visloc.feat/reg/standard2example_func.mat -out ${subj}/model/masks/IPS_R_subjspace.nii.gz -interp nearestneighbour -ref ${subj}/func/${subj}_task-visloc_bold_ref.nii.gz ;\n",
    "    echo $subj\n",
    "done"
   ]
  },
  {
   "cell_type": "markdown",
   "metadata": {},
   "source": [
    "#### Flirt the IPS mask to midsp"
   ]
  },
  {
   "cell_type": "code",
   "execution_count": 131,
   "metadata": {},
   "outputs": [
    {
     "name": "stdout",
     "output_type": "stream",
     "text": [
      "sub-lp01\n",
      "sub-lp02\n",
      "sub-lp03\n",
      "sub-lp04\n",
      "sub-lp05\n",
      "sub-lp06\n",
      "sub-lp07\n"
     ]
    }
   ],
   "source": [
    "%%bash\n",
    "cd /vols/Data/soma/superusers/\n",
    "for subj in sub-????; do \n",
    "    flirt -in masks/tools_neurosynth/parietal_thr50_tools_neurosynth_left.nii.gz -applyxfm -init ${subj}/model/glm/pros_videos/run1_nocatch.feat/reg/standard2example_func.mat -out ${subj}/model/masks/V1_full_subjspace.nii.gz -interp nearestneighbour -ref ${subj}/func/${subj}_task-video_run-1_bold_ref.nii.gz ;\n",
    "    #flirt -in masks/IPS_thr30_mask_R.nii.gz -applyxfm -init ${subj}/model/glm/pros_videos/run1_nocatch.feat/reg/standard2example_func.mat -out ${subj}/model/masks/IPS_R_subjspace.nii.gz -interp nearestneighbour -ref ${subj}/func/${subj}_task-video_run-1_bold_ref.nii.gz ;\n",
    "    echo $subj\n",
    "done"
   ]
  },
  {
   "cell_type": "code",
   "execution_count": 136,
   "metadata": {},
   "outputs": [
    {
     "name": "stdout",
     "output_type": "stream",
     "text": [
      "sub-lp01\n",
      "sub-lp02\n",
      "sub-lp03\n",
      "sub-lp04\n",
      "sub-lp05\n",
      "sub-lp06\n",
      "sub-lp07\n"
     ]
    }
   ],
   "source": [
    "%%bash\n",
    "cd /vols/Data/soma/superusers/\n",
    "for subj in sub-lp{01..07}; do \n",
    "    flirt -in ${subj}/model/masks/V1_full_subjspace.nii.gz -applyxfm -init ${subj}/func/${subj}_task-video_run-1_bold_ref_to_midsp.mat -out ${subj}/model/masks/V1_all_inmidsp.nii.gz -interp nearestneighbour -ref ${subj}/func/Midtrans.nii.gz ;\n",
    "    #flirt -in ${subj}/model/masks/IPS_R_subjspace.nii.gz -applyxfm -init ${subj}/func/${subj}_task-video_run-1_bold_ref_to_midsp.mat -out ${subj}/model/masks/IPS_R_inmidsp.nii.gz -interp nearestneighbour -ref ${subj}/func/Midtrans.nii.gz ;\n",
    "    echo $subj\n",
    "done"
   ]
  },
  {
   "cell_type": "code",
   "execution_count": 82,
   "metadata": {},
   "outputs": [
    {
     "name": "stdout",
     "output_type": "stream",
     "text": [
      "sub-co07\n"
     ]
    }
   ],
   "source": [
    "%%bash\n",
    "cd /vols/Data/soma/superusers/\n",
    "for subj in sub-co07; do \n",
    "    fslmaths ${subj}/model/masks/IPS_L_subjspace.nii.gz -add ${subj}/model/masks/IPS_R_subjspace.nii.gz ${subj}/model/masks/IPS_bi_subjspace.nii.gz;\n",
    "    echo $subj\n",
    "done"
   ]
  },
  {
   "cell_type": "code",
   "execution_count": 4,
   "metadata": {},
   "outputs": [
    {
     "name": "stdout",
     "output_type": "stream",
     "text": [
      "sub-co01\n",
      "sub-co02\n",
      "sub-co03\n",
      "sub-co04\n",
      "sub-co05\n",
      "sub-co06\n",
      "sub-co07\n",
      "sub-co08\n",
      "sub-co09\n",
      "sub-co10\n",
      "sub-co11\n",
      "sub-co12\n",
      "sub-co13\n",
      "sub-co14\n",
      "sub-co15\n"
     ]
    },
    {
     "name": "stderr",
     "output_type": "stream",
     "text": [
      "Image Exception : #63 :: No image files match: sub-co06/model/masks/top200hemi/IPS_L_BOT_inmidsp\n",
      "terminate called after throwing an instance of 'std::runtime_error'\n",
      "  what():  No image files match: sub-co06/model/masks/top200hemi/IPS_L_BOT_inmidsp\n",
      "bash: line 2: 18854 Aborted                 (core dumped) fslmaths ${subj}/model/masks/top200hemi/IPS_L_BOT_inmidsp.nii.gz -add ${subj}/model/masks/top100hemi/PM_L_BOT_inmidsp.nii.gz ${subj}/model/masks/premotor-parietal_L_BOT_300voxels.nii.gz\n",
      "Image Exception : #63 :: No image files match: sub-co06/model/masks/top200hemi/IPS_R_BOT_inmidsp\n",
      "terminate called after throwing an instance of 'std::runtime_error'\n",
      "  what():  No image files match: sub-co06/model/masks/top200hemi/IPS_R_BOT_inmidsp\n",
      "bash: line 2: 18859 Aborted                 (core dumped) fslmaths ${subj}/model/masks/top200hemi/IPS_R_BOT_inmidsp.nii.gz -add ${subj}/model/masks/top100hemi/PM_R_BOT_inmidsp.nii.gz ${subj}/model/masks/premotor-parietal_R_BOT_300voxels.nii.gz\n",
      "Image Exception : #63 :: No image files match: sub-co08/model/masks/top200hemi/IPS_L_BOT_inmidsp\n",
      "terminate called after throwing an instance of 'std::runtime_error'\n",
      "  what():  No image files match: sub-co08/model/masks/top200hemi/IPS_L_BOT_inmidsp\n",
      "bash: line 2: 18870 Aborted                 (core dumped) fslmaths ${subj}/model/masks/top200hemi/IPS_L_BOT_inmidsp.nii.gz -add ${subj}/model/masks/top100hemi/PM_L_BOT_inmidsp.nii.gz ${subj}/model/masks/premotor-parietal_L_BOT_300voxels.nii.gz\n",
      "Image Exception : #63 :: No image files match: sub-co08/model/masks/top200hemi/IPS_R_BOT_inmidsp\n",
      "terminate called after throwing an instance of 'std::runtime_error'\n",
      "  what():  No image files match: sub-co08/model/masks/top200hemi/IPS_R_BOT_inmidsp\n",
      "bash: line 2: 18873 Aborted                 (core dumped) fslmaths ${subj}/model/masks/top200hemi/IPS_R_BOT_inmidsp.nii.gz -add ${subj}/model/masks/top100hemi/PM_R_BOT_inmidsp.nii.gz ${subj}/model/masks/premotor-parietal_R_BOT_300voxels.nii.gz\n",
      "Image Exception : #63 :: No image files match: sub-co12/model/masks/top200hemi/IPS_L_BOT_inmidsp\n",
      "terminate called after throwing an instance of 'std::runtime_error'\n",
      "  what():  No image files match: sub-co12/model/masks/top200hemi/IPS_L_BOT_inmidsp\n",
      "bash: line 2: 18974 Aborted                 (core dumped) fslmaths ${subj}/model/masks/top200hemi/IPS_L_BOT_inmidsp.nii.gz -add ${subj}/model/masks/top100hemi/PM_L_BOT_inmidsp.nii.gz ${subj}/model/masks/premotor-parietal_L_BOT_300voxels.nii.gz\n",
      "Image Exception : #63 :: No image files match: sub-co12/model/masks/top200hemi/IPS_R_BOT_inmidsp\n",
      "terminate called after throwing an instance of 'std::runtime_error'\n",
      "  what():  No image files match: sub-co12/model/masks/top200hemi/IPS_R_BOT_inmidsp\n",
      "bash: line 2: 18984 Aborted                 (core dumped) fslmaths ${subj}/model/masks/top200hemi/IPS_R_BOT_inmidsp.nii.gz -add ${subj}/model/masks/top100hemi/PM_R_BOT_inmidsp.nii.gz ${subj}/model/masks/premotor-parietal_R_BOT_300voxels.nii.gz\n"
     ]
    }
   ],
   "source": [
    "%%bash\n",
    "cd /vols/Data/soma/superusers/\n",
    "for subj in sub-co{01..15}; do \n",
    "    fslmaths ${subj}/model/masks/top200hemi/IPS_L_BOT_inmidsp.nii.gz -add ${subj}/model/masks/top100hemi/PM_L_BOT_inmidsp.nii.gz ${subj}/model/masks/premotor-parietal_L_BOT_300voxels.nii.gz;\n",
    "    fslmaths ${subj}/model/masks/top200hemi/IPS_R_BOT_inmidsp.nii.gz -add ${subj}/model/masks/top100hemi/PM_R_BOT_inmidsp.nii.gz ${subj}/model/masks/premotor-parietal_R_BOT_300voxels.nii.gz;\n",
    "    echo $subj\n",
    "done"
   ]
  },
  {
   "cell_type": "code",
   "execution_count": 130,
   "metadata": {},
   "outputs": [],
   "source": [
    "#Define Subjects (exlcuding sub-co12, sub-co06, sub-co08)\n",
    "subjects = ('sub-lp01','sub-lp02','sub-lp03','sub-lp04','sub-lp05','sub-lp06','sub-lp07','sub-co01','sub-co02','sub-co03','sub-co04','sub-co05','sub-co07','sub-co09','sub-co10','sub-co11','sub-co13','sub-co14','sub-co15')"
   ]
  },
  {
   "cell_type": "code",
   "execution_count": 143,
   "metadata": {},
   "outputs": [
    {
     "name": "stdout",
     "output_type": "stream",
     "text": [
      "sub-lp01\n",
      "/vols/Data/soma/superusers/sub-lp01/model/masks/top200hemi/parietal_BOT_n20_lhemi_subjspace.nii.gz\n",
      "/vols/Data/soma/superusers/sub-lp01/model/masks/top200hemi/parietal_BOT_n20_lhemi_subjspace.nii.gz\n",
      "sub-lp02\n",
      "/vols/Data/soma/superusers/sub-lp02/model/masks/top200hemi/parietal_BOT_n20_lhemi_subjspace.nii.gz\n"
     ]
    },
    {
     "name": "stderr",
     "output_type": "stream",
     "text": [
      "/home/fs0/hschone/anaconda3/envs/myenv/lib/python3.7/site-packages/ipykernel_launcher.py:9: DeprecationWarning: get_data() is deprecated in favor of get_fdata(), which has a more predictable return type. To obtain get_data() behavior going forward, use numpy.asanyarray(img.dataobj).\n",
      "\n",
      "* deprecated from version: 3.0\n",
      "* Will raise <class 'nibabel.deprecator.ExpiredDeprecationError'> as of version: 5.0\n",
      "  if __name__ == '__main__':\n",
      "/home/fs0/hschone/anaconda3/envs/myenv/lib/python3.7/site-packages/ipykernel_launcher.py:10: DeprecationWarning: get_data() is deprecated in favor of get_fdata(), which has a more predictable return type. To obtain get_data() behavior going forward, use numpy.asanyarray(img.dataobj).\n",
      "\n",
      "* deprecated from version: 3.0\n",
      "* Will raise <class 'nibabel.deprecator.ExpiredDeprecationError'> as of version: 5.0\n",
      "  # Remove the CWD from sys.path while we load stuff.\n"
     ]
    },
    {
     "name": "stdout",
     "output_type": "stream",
     "text": [
      "/vols/Data/soma/superusers/sub-lp02/model/masks/top200hemi/parietal_BOT_n20_lhemi_subjspace.nii.gz\n",
      "sub-lp03\n",
      "/vols/Data/soma/superusers/sub-lp03/model/masks/top200hemi/parietal_BOT_n20_lhemi_subjspace.nii.gz\n",
      "/vols/Data/soma/superusers/sub-lp03/model/masks/top200hemi/parietal_BOT_n20_lhemi_subjspace.nii.gz\n",
      "sub-lp04\n",
      "/vols/Data/soma/superusers/sub-lp04/model/masks/top200hemi/parietal_BOT_n20_lhemi_subjspace.nii.gz\n",
      "/vols/Data/soma/superusers/sub-lp04/model/masks/top200hemi/parietal_BOT_n20_lhemi_subjspace.nii.gz\n",
      "sub-lp05\n",
      "/vols/Data/soma/superusers/sub-lp05/model/masks/top200hemi/parietal_BOT_n20_lhemi_subjspace.nii.gz\n",
      "/vols/Data/soma/superusers/sub-lp05/model/masks/top200hemi/parietal_BOT_n20_lhemi_subjspace.nii.gz\n",
      "sub-lp06\n",
      "/vols/Data/soma/superusers/sub-lp06/model/masks/top200hemi/parietal_BOT_n20_lhemi_subjspace.nii.gz\n",
      "/vols/Data/soma/superusers/sub-lp06/model/masks/top200hemi/parietal_BOT_n20_lhemi_subjspace.nii.gz\n",
      "sub-lp07\n",
      "/vols/Data/soma/superusers/sub-lp07/model/masks/top200hemi/parietal_BOT_n20_lhemi_subjspace.nii.gz\n",
      "/vols/Data/soma/superusers/sub-lp07/model/masks/top200hemi/parietal_BOT_n20_lhemi_subjspace.nii.gz\n",
      "sub-co01\n",
      "/vols/Data/soma/superusers/sub-co01/model/masks/top200hemi/parietal_BOT_n20_lhemi_subjspace.nii.gz\n",
      "/vols/Data/soma/superusers/sub-co01/model/masks/top200hemi/parietal_BOT_n20_lhemi_subjspace.nii.gz\n",
      "sub-co02\n",
      "/vols/Data/soma/superusers/sub-co02/model/masks/top200hemi/parietal_BOT_n20_lhemi_subjspace.nii.gz\n",
      "/vols/Data/soma/superusers/sub-co02/model/masks/top200hemi/parietal_BOT_n20_lhemi_subjspace.nii.gz\n",
      "sub-co03\n",
      "/vols/Data/soma/superusers/sub-co03/model/masks/top200hemi/parietal_BOT_n20_lhemi_subjspace.nii.gz\n",
      "/vols/Data/soma/superusers/sub-co03/model/masks/top200hemi/parietal_BOT_n20_lhemi_subjspace.nii.gz\n",
      "sub-co04\n",
      "/vols/Data/soma/superusers/sub-co04/model/masks/top200hemi/parietal_BOT_n20_lhemi_subjspace.nii.gz\n",
      "/vols/Data/soma/superusers/sub-co04/model/masks/top200hemi/parietal_BOT_n20_lhemi_subjspace.nii.gz\n",
      "sub-co05\n",
      "/vols/Data/soma/superusers/sub-co05/model/masks/top200hemi/parietal_BOT_n20_lhemi_subjspace.nii.gz\n",
      "/vols/Data/soma/superusers/sub-co05/model/masks/top200hemi/parietal_BOT_n20_lhemi_subjspace.nii.gz\n",
      "sub-co07\n",
      "/vols/Data/soma/superusers/sub-co07/model/masks/top200hemi/parietal_BOT_n20_lhemi_subjspace.nii.gz\n",
      "/vols/Data/soma/superusers/sub-co07/model/masks/top200hemi/parietal_BOT_n20_lhemi_subjspace.nii.gz\n",
      "sub-co09\n",
      "/vols/Data/soma/superusers/sub-co09/model/masks/top200hemi/parietal_BOT_n20_lhemi_subjspace.nii.gz\n",
      "/vols/Data/soma/superusers/sub-co09/model/masks/top200hemi/parietal_BOT_n20_lhemi_subjspace.nii.gz\n",
      "sub-co10\n",
      "/vols/Data/soma/superusers/sub-co10/model/masks/top200hemi/parietal_BOT_n20_lhemi_subjspace.nii.gz\n",
      "/vols/Data/soma/superusers/sub-co10/model/masks/top200hemi/parietal_BOT_n20_lhemi_subjspace.nii.gz\n",
      "sub-co11\n",
      "/vols/Data/soma/superusers/sub-co11/model/masks/top200hemi/parietal_BOT_n20_lhemi_subjspace.nii.gz\n",
      "/vols/Data/soma/superusers/sub-co11/model/masks/top200hemi/parietal_BOT_n20_lhemi_subjspace.nii.gz\n",
      "sub-co13\n",
      "/vols/Data/soma/superusers/sub-co13/model/masks/top200hemi/parietal_BOT_n20_lhemi_subjspace.nii.gz\n",
      "/vols/Data/soma/superusers/sub-co13/model/masks/top200hemi/parietal_BOT_n20_lhemi_subjspace.nii.gz\n",
      "sub-co14\n",
      "/vols/Data/soma/superusers/sub-co14/model/masks/top200hemi/parietal_BOT_n20_lhemi_subjspace.nii.gz\n",
      "/vols/Data/soma/superusers/sub-co14/model/masks/top200hemi/parietal_BOT_n20_lhemi_subjspace.nii.gz\n",
      "sub-co15\n",
      "/vols/Data/soma/superusers/sub-co15/model/masks/top200hemi/parietal_BOT_n20_lhemi_subjspace.nii.gz\n",
      "/vols/Data/soma/superusers/sub-co15/model/masks/top200hemi/parietal_BOT_n20_lhemi_subjspace.nii.gz\n"
     ]
    }
   ],
   "source": [
    "# Run on each OTC mask separately \n",
    "masks = ['parietal_BOT_n20_lhemi','parietal_BOT_n20_lhemi']\n",
    "for subj in subjects:\n",
    "    print(subj)\n",
    "    bilateral = None\n",
    "    for mfilename in masks:\n",
    "        nii = nib.load('/vols/Data/soma/superusers/{subj}/model/glm/visloc/visloc.feat/stats/zstat19.nii.gz'.format(subj=subj))\n",
    "        mask = nib.load('/vols/Data/soma/superusers/{subj}/model/masks/{mname}_subjspace.nii.gz'.format(subj=subj,mname=mfilename))\n",
    "        maskdata = mask.get_data()\n",
    "        zstat = nii.get_data()\n",
    "        zstat[maskdata==0] = 0 \n",
    "        zstat_list = zstat[zstat>0]\n",
    "        zstat_list[::-1].sort()\n",
    "        thr = zstat_list[200]\n",
    "        mask = zstat > thr\n",
    "        nib.save(nib.Nifti1Image(mask,nii.affine, header=nii.header),'/vols/Data/soma/superusers/{subj}/model/masks/top200hemi/{mname}_subjspace.nii.gz'.format(subj=subj,mname=mfilename))\n",
    "        print('/vols/Data/soma/superusers/{subj}/model/masks/top200hemi/{mname}_subjspace.nii.gz'.format(subj=subj,mname=mfilename))"
   ]
  },
  {
   "cell_type": "code",
   "execution_count": 63,
   "metadata": {},
   "outputs": [
    {
     "name": "stdout",
     "output_type": "stream",
     "text": [
      "/vols/Data/soma/superusers/masks/tools_neurosynth/juelich_prob_GM_premotor_cortex_BA6_L_top50.nii.gz\n",
      "8.711326297928967\n",
      "/vols/Data/soma/superusers/masks/tools_neurosynth/juelich_prob_GM_premotor_cortex_BA6_L_top50.nii.gz\n",
      "8.711326297928967\n"
     ]
    },
    {
     "name": "stderr",
     "output_type": "stream",
     "text": [
      "/home/fs0/hschone/anaconda3/envs/myenv/lib/python3.7/site-packages/ipykernel_launcher.py:7: DeprecationWarning: get_data() is deprecated in favor of get_fdata(), which has a more predictable return type. To obtain get_data() behavior going forward, use numpy.asanyarray(img.dataobj).\n",
      "\n",
      "* deprecated from version: 3.0\n",
      "* Will raise <class 'nibabel.deprecator.ExpiredDeprecationError'> as of version: 5.0\n",
      "  import sys\n",
      "/home/fs0/hschone/anaconda3/envs/myenv/lib/python3.7/site-packages/ipykernel_launcher.py:8: DeprecationWarning: get_data() is deprecated in favor of get_fdata(), which has a more predictable return type. To obtain get_data() behavior going forward, use numpy.asanyarray(img.dataobj).\n",
      "\n",
      "* deprecated from version: 3.0\n",
      "* Will raise <class 'nibabel.deprecator.ExpiredDeprecationError'> as of version: 5.0\n",
      "  \n"
     ]
    }
   ],
   "source": [
    "# Creating a neurosynth tools parietal mask - top 500 voxels\n",
    "masks = ['juelich_prob_GM_premotor_cortex_BA6_L','juelich_prob_GM_premotor_cortex_BA6_L']\n",
    "bilateral = None\n",
    "for mfilename in masks:\n",
    "    nii = nib.load('/vols/Data/soma/superusers/masks/tools_neurosynth/tools_neurosynth_edit.nii.gz')\n",
    "    mask = nib.load('/vols/Data/soma/superusers/masks/tools_neurosynth/{mname}.nii.gz'.format(mname=mfilename))\n",
    "    maskdata = mask.get_data()\n",
    "    zstat = nii.get_data()\n",
    "    zstat[maskdata==0] = 0 \n",
    "    zstat_list = zstat[zstat>0]\n",
    "    zstat_list[::-1].sort()\n",
    "    thr = zstat_list[50]\n",
    "    mask = zstat > thr\n",
    "    nib.save(nib.Nifti1Image(mask,nii.affine, header=nii.header),'/vols/Data/soma/superusers/masks/tools_neurosynth/{mname}_top50.nii.gz'.format(mname=mfilename))\n",
    "    print('/vols/Data/soma/superusers/masks/tools_neurosynth/{mname}_top50.nii.gz'.format(mname=mfilename))\n",
    "    print(thr)"
   ]
  },
  {
   "cell_type": "markdown",
   "metadata": {},
   "source": [
    "### Flirt visloc mask to MNI space"
   ]
  },
  {
   "cell_type": "code",
   "execution_count": 144,
   "metadata": {},
   "outputs": [
    {
     "name": "stdout",
     "output_type": "stream",
     "text": [
      "sub-co01\n",
      "sub-co02\n",
      "sub-co03\n",
      "sub-co04\n",
      "sub-co05\n",
      "sub-co07\n",
      "sub-co09\n",
      "sub-co10\n",
      "sub-co11\n",
      "sub-co13\n",
      "sub-co14\n",
      "sub-co15\n",
      "sub-lp01\n",
      "sub-lp02\n",
      "sub-lp03\n",
      "sub-lp04\n",
      "sub-lp05\n",
      "sub-lp06\n",
      "sub-lp07\n"
     ]
    }
   ],
   "source": [
    "%%bash\n",
    "cd /vols/Data/soma/superusers/\n",
    "for subj in sub-????; do\n",
    "    flirt -in ${subj}/model/masks/top200hemi/parietal_BOT_n20_lhemi_subjspace.nii.gz -applyxfm -init ${subj}/model/glm/visloc/visloc.feat/reg/example_func2standard.mat -out ${subj}/model/masks/top200hemi/parietal_BOT_lhemi_MNI.nii.gz -interp nearestneighbour -ref /opt/fmrib/fsl/data/standard/MNI152_T1_2mm.nii.gz;\n",
    "    #flirt -in ${subj}/model/masks/top100hemi/juelich_V1_R_all_subjspace.nii.gz -applyxfm -init ${subj}/model/glm/visloc/visloc.feat/reg/example_func2standard.mat -out ${subj}/model/masks/top100hemi/juelich_V1_R_all_MNI.nii.gz -interp nearestneighbour -ref /opt/fmrib/fsl/data/standard/MNI152_T1_2mm.nii.gz;\n",
    "echo $subj\n",
    "done"
   ]
  },
  {
   "cell_type": "code",
   "execution_count": 7,
   "metadata": {},
   "outputs": [
    {
     "name": "stdout",
     "output_type": "stream",
     "text": [
      "sub-cb\n"
     ]
    }
   ],
   "source": [
    "%%bash\n",
    "cd /vols/Data/soma/superusers/ProControl\n",
    "for subj in sub-ar01; do\n",
    "    flirt -in ${subj}/model/masks/Rhemi_bin.nii.gz -applyxfm -init ${subj}/model/glm/movesee/run1.feat/reg/standard2example_func.mat -out ${subj}/model/masks/Rhemi_bin_run1.nii.gz -interp nearestneighbour -ref ${subj}/func/${subj}_task_run-1_ref.nii.gz;\n",
    "echo $subj\n",
    "done"
   ]
  },
  {
   "cell_type": "code",
   "execution_count": 8,
   "metadata": {},
   "outputs": [
    {
     "name": "stdout",
     "output_type": "stream",
     "text": [
      "sub-cb\n"
     ]
    }
   ],
   "source": [
    "%%bash\n",
    "cd /vols/Data/soma/superusers/ProControl\n",
    "for subj in sub-cb; do\n",
    "    flirt -in ${subj}/model/masks/Rhemi_bin_run1.nii.gz -applyxfm -init ${subj}/func/${subj}_task_run-1_ref_to_midsp.mat -out ${subj}/model/masks/Rhemi_bin_inmidsp.nii.gz -interp nearestneighbour -ref ${subj}/func/Midtrans.nii.gz;\n",
    "echo $subj\n",
    "done"
   ]
  },
  {
   "cell_type": "code",
   "execution_count": 127,
   "metadata": {},
   "outputs": [
    {
     "name": "stdout",
     "output_type": "stream",
     "text": [
      "sub-co01\n",
      "sub-co02\n",
      "sub-co03\n",
      "sub-co04\n",
      "sub-co05\n",
      "sub-co07\n",
      "sub-co09\n",
      "sub-co10\n",
      "sub-co11\n",
      "sub-co13\n",
      "sub-co14\n",
      "sub-co15\n",
      "sub-lp01\n",
      "sub-lp02\n",
      "sub-lp03\n",
      "sub-lp04\n",
      "sub-lp05\n",
      "sub-lp06\n",
      "sub-lp07\n"
     ]
    }
   ],
   "source": [
    "%%bash\n",
    "cd /vols/Data/soma/superusers/\n",
    "for subj in sub-????; do\n",
    "    flirt -in ${subj}/model/masks/top200hemi/lpar_hands_tools_neurosynth_left_run1.nii.gz -applyxfm -init ${subj}/func/${subj}_task-video_run-1_bold_ref_to_midsp.mat -out ${subj}/model/masks/top200hemi/lpar_hands_tools_neurosynth_left_inmidsp.nii.gz -interp nearestneighbour -ref ${subj}/func/Midtrans.nii.gz;\n",
    "    #flirt -in ${subj}/model/masks/top100hemi/juelich_V1_R_all_run1.nii.gz -applyxfm -init ${subj}/func/${subj}_task-video_run-1_bold_ref_to_midsp.mat -out ${subj}/model/masks/top100hemi/juelich_V1_R_top100_inmidsp.nii.gz -interp nearestneighbour -ref ${subj}/func/Midtrans.nii.gz;\n",
    "\n",
    "echo $subj\n",
    "done"
   ]
  },
  {
   "cell_type": "code",
   "execution_count": 35,
   "metadata": {},
   "outputs": [
    {
     "name": "stdout",
     "output_type": "stream",
     "text": [
      "sub-co01\n",
      "sub-co02\n",
      "sub-co03\n",
      "sub-co04\n",
      "sub-co05\n",
      "sub-co07\n",
      "sub-co09\n",
      "sub-co10\n",
      "sub-co11\n",
      "sub-co13\n",
      "sub-co14\n",
      "sub-co15\n"
     ]
    }
   ],
   "source": [
    "%%bash\n",
    "cd /vols/Data/soma/superusers/\n",
    "for subj in sub-co??; do\n",
    "    fslmaths ${subj}/model/masks/top100hemi/juelich_V1_L_top100_inmidsp.nii.gz -add ${subj}/model/masks/top100hemi/juelich_V1_R_top100_inmidsp.nii.gz ${subj}/model/masks/top100hemi/juelich_V1_bi_top100_inmidsp.nii.gz\n",
    "echo $subj\n",
    "done"
   ]
  },
  {
   "cell_type": "markdown",
   "metadata": {},
   "source": [
    "### Flirt MNI mask to run 1 subjspsace"
   ]
  },
  {
   "cell_type": "code",
   "execution_count": 54,
   "metadata": {},
   "outputs": [
    {
     "name": "stdout",
     "output_type": "stream",
     "text": [
      "sub-co12\n"
     ]
    }
   ],
   "source": [
    "%%bash\n",
    "cd /vols/Data/soma/superusers/\n",
    "for subj in sub-co12; do\n",
    "    flirt -in ${subj}/model/masks/top100hemi/LOTC_L_TEMP.nii.gz -applyxfm -init ${subj}/model/glm/pros_videos/run1_nocatch.feat/reg/standard2example_func.mat -out ${subj}/model/masks/top100hemi/LOTC_L_run1_subjspace.nii.gz -interp nearestneighbour -ref ${subj}/func/${subj}_task-video_run-1_bold_ref.nii.gz;\n",
    "    flirt -in ${subj}/model/masks/top100hemi/LOTC_R_TEMP.nii.gz -applyxfm -init ${subj}/model/glm/pros_videos/run1_nocatch.feat/reg/standard2example_func.mat -out ${subj}/model/masks/top100hemi/LOTC_R_run1_subjspace.nii.gz -interp nearestneighbour -ref ${subj}/func/${subj}_task-video_run-1_bold_ref.nii.gz;\n",
    "    echo $subj\n",
    "done"
   ]
  },
  {
   "cell_type": "markdown",
   "metadata": {},
   "source": [
    "### Mask the run1 subjspace mask to brain mask"
   ]
  },
  {
   "cell_type": "code",
   "execution_count": 58,
   "metadata": {},
   "outputs": [],
   "source": [
    "%%bash\n",
    "cd /vols/Data/soma/superusers/\n",
    "for subj in sub-co12; do\n",
    "    fslmaths ${subj}/model/masks/top100hemi/LOTC_L_run1_subjspace.nii.gz -mas ${subj}/model/glm/pros_videos/run1_nocatch.feat/mask.nii.gz ${subj}/model/masks/top100hemi/LOTC_L_run1_subjspace_masked.nii.gz;\n",
    "    fslmaths ${subj}/model/masks/top100hemi/LOTC_R_run1_subjspace.nii.gz -mas ${subj}/model/glm/pros_videos/run1_nocatch.feat/mask.nii.gz ${subj}/model/masks/top100hemi/LOTC_R_run1_subjspace_masked.nii.gz;\n",
    "done"
   ]
  },
  {
   "cell_type": "markdown",
   "metadata": {},
   "source": [
    "### Flirt run 1 subjspace mask to midtrans space"
   ]
  },
  {
   "cell_type": "code",
   "execution_count": 61,
   "metadata": {},
   "outputs": [],
   "source": [
    "%%bash\n",
    "cd /vols/Data/soma/superusers/\n",
    "for subj in sub-co12; do\n",
    "    flirt -in ${subj}/model/masks/top100hemi/LOTC_L_run1_subjspace_masked.nii.gz -applyxfm -init ${subj}/func/${subj}_task-video_run-1_bold_ref_to_midsp.mat -out ${subj}/model/masks/top100hemi/LOTC_L_midtrans.nii.gz -interp nearestneighbour -ref ${subj}/func/Midtrans.nii.gz;\n",
    "    flirt -in ${subj}/model/masks/top100hemi/LOTC_R_run1_subjspace_masked.nii.gz -applyxfm -init ${subj}/func/${subj}_task-video_run-1_bold_ref_to_midsp.mat -out ${subj}/model/masks/top100hemi/LOTC_R_midtrans.nii.gz -interp nearestneighbour -ref ${subj}/func/Midtrans.nii.gz;\n",
    "done"
   ]
  },
  {
   "cell_type": "code",
   "execution_count": null,
   "metadata": {},
   "outputs": [],
   "source": []
  },
  {
   "cell_type": "code",
   "execution_count": null,
   "metadata": {},
   "outputs": [],
   "source": []
  },
  {
   "cell_type": "code",
   "execution_count": 109,
   "metadata": {},
   "outputs": [
    {
     "name": "stdout",
     "output_type": "stream",
     "text": [
      "sub-co01\n",
      "sub-co02\n",
      "sub-co03\n",
      "sub-co04\n",
      "sub-co05\n",
      "sub-co07\n",
      "sub-co09\n",
      "sub-co10\n",
      "sub-co11\n",
      "sub-co13\n",
      "sub-co14\n",
      "sub-co15\n",
      "sub-lp01\n",
      "sub-lp02\n",
      "sub-lp03\n",
      "sub-lp04\n",
      "sub-lp05\n",
      "sub-lp06\n",
      "sub-lp07\n"
     ]
    }
   ],
   "source": [
    "%%bash\n",
    "cd /vols/Data/soma/superusers/\n",
    "for subj in sub-????; do\n",
    "    flirt -in ${subj}/model/masks/parietal_tools_neurosynth_left_subjspace.nii.gz -applyxfm -init ${subj}/model/glm/visloc/visloc.feat/reg/example_func2standard.mat -out ${subj}/model/masks/parietal_tools_neurosynth_left_MNI.nii.gz -interp nearestneighbour -ref /opt/fmrib/fsl/data/standard/MNI152_T1_2mm.nii.gz;\n",
    "echo $subj\n",
    "done"
   ]
  },
  {
   "cell_type": "code",
   "execution_count": 110,
   "metadata": {},
   "outputs": [
    {
     "name": "stdout",
     "output_type": "stream",
     "text": [
      "sub-co01\n",
      "sub-co02\n",
      "sub-co03\n",
      "sub-co04\n",
      "sub-co05\n",
      "sub-co07\n",
      "sub-co09\n",
      "sub-co10\n",
      "sub-co11\n",
      "sub-co13\n",
      "sub-co14\n",
      "sub-co15\n",
      "sub-lp01\n",
      "sub-lp02\n",
      "sub-lp03\n",
      "sub-lp04\n",
      "sub-lp05\n",
      "sub-lp06\n",
      "sub-lp07\n"
     ]
    }
   ],
   "source": [
    "%%bash\n",
    "cd /vols/Data/soma/superusers/\n",
    "for subj in sub-????; do\n",
    "    flirt -in ${subj}/model/masks/top200hemi/parietal_thr50_tools_neurosynth_left_MNI.nii.gz -applyxfm -init ${subj}/model/glm/pros_videos/run1_nocatch.feat/reg/standard2example_func.mat -out ${subj}/model/masks/top200hemi/parietal_thr50_tools_neurosynth_left_run1_subjspace.nii.gz -interp nearestneighbour -ref ${subj}/func/${subj}_task-video_run-1_bold_ref.nii.gz;\n",
    "    echo $subj\n",
    "done"
   ]
  },
  {
   "cell_type": "code",
   "execution_count": 111,
   "metadata": {},
   "outputs": [
    {
     "name": "stdout",
     "output_type": "stream",
     "text": [
      "sub-co01\n",
      "sub-co02\n",
      "sub-co03\n",
      "sub-co04\n",
      "sub-co05\n",
      "sub-co07\n",
      "sub-co09\n",
      "sub-co10\n",
      "sub-co11\n",
      "sub-co13\n",
      "sub-co14\n",
      "sub-co15\n",
      "sub-lp01\n",
      "sub-lp02\n",
      "sub-lp03\n",
      "sub-lp04\n",
      "sub-lp05\n",
      "sub-lp06\n",
      "sub-lp07\n"
     ]
    }
   ],
   "source": [
    "%%bash\n",
    "cd /vols/Data/soma/superusers/\n",
    "for subj in sub-????; do \n",
    "    flirt -in ${subj}/model/masks/top200hemi/parietal_thr50_tools_neurosynth_left_run1_subjspace.nii.gz -applyxfm -init ${subj}/model/glm/pros_videos/run1_nocatch.feat/reg/standard2example_func.mat  -out ${subj}/model/masks/top200hemi/parietal_thr50_tools_neurosynth_left_inmidsp.nii.gz -interp nearestneighbour -ref ${subj}/func/${subj}_task-video_run-1_bold_ref.nii.gz ;\n",
    "    #flirt -in masks/IPS_thr30_mask_R.nii.gz -applyxfm -init ${subj}/model/glm/pros_videos/run1_nocatch.feat/reg/standard2example_func.mat  -out ${subj}/model/masks/IPS_R_subjspace_allvoxels.nii.gz -interp nearestneighbour -ref ${subj}/func/${subj}_task-video_run-1_bold_ref.nii.gz ;\n",
    "    echo $subj\n",
    "done"
   ]
  },
  {
   "cell_type": "code",
   "execution_count": 103,
   "metadata": {},
   "outputs": [],
   "source": [
    "%%bash\n",
    "cd /vols/Data/soma/superusers/\n",
    "for subj in sub-????; do\n",
    "    flirt -in ${subj}/model/masks/top200hemi/parietal_tools_neurosynth_left_edit_run1_subjspace.nii.gz -applyxfm -init ${subj}/func/${subj}_task-video_run-1_bold_ref_to_midsp.mat -out ${subj}/model/masks/top200hemi/parietal_tools_neurosynth_left_edit_inmidsp.nii.gz -interp nearestneighbour -ref ${subj}/func/Midtrans.nii.gz;\n",
    "done"
   ]
  },
  {
   "cell_type": "code",
   "execution_count": 140,
   "metadata": {},
   "outputs": [],
   "source": [
    "%%bash\n",
    "cd /vols/Data/soma/superusers/\n",
    "for subj in sub-????; do\n",
    "    flirt -in ${subj}/model/masks/top200hemi/parietal_uthr_lefthemi_bin_run1.nii.gz -applyxfm -init ${subj}/func/${subj}_task-video_run-1_bold_ref_to_midsp.mat -out ${subj}/model/masks/top200hemi/parietal_uthr_lefthemi_bin_inmidsp.nii.gz -interp nearestneighbour -ref ${subj}/func/Midtrans.nii.gz;\n",
    "done"
   ]
  },
  {
   "cell_type": "code",
   "execution_count": null,
   "metadata": {},
   "outputs": [],
   "source": []
  },
  {
   "cell_type": "code",
   "execution_count": 115,
   "metadata": {},
   "outputs": [
    {
     "name": "stdout",
     "output_type": "stream",
     "text": [
      "sub-co01\n",
      "sub-co02\n",
      "sub-co03\n",
      "sub-co04\n",
      "sub-co05\n",
      "sub-co07\n",
      "sub-co09\n",
      "sub-co10\n",
      "sub-co11\n",
      "sub-co13\n",
      "sub-co14\n",
      "sub-co15\n",
      "sub-lp01\n",
      "sub-lp02\n",
      "sub-lp03\n",
      "sub-lp04\n",
      "sub-lp05\n",
      "sub-lp06\n",
      "sub-lp07\n"
     ]
    }
   ],
   "source": [
    "%%bash\n",
    "cd /vols/Data/soma/superusers/\n",
    "for subj in sub-????; do\n",
    "    flirt -in masks/tools_neurosynth/tools_neurosynth_bin.nii.gz -applyxfm -init ${subj}/model/glm/pros_videos/run1_nocatch.feat/reg/standard2example_func.mat -out ${subj}/model/masks/tools_neurosynth_bin_run1.nii.gz -interp nearestneighbour -ref ${subj}/func/${subj}_task-video_run-1_bold_ref.nii.gz;\n",
    "    fslmaths ${subj}/model/masks/tools_neurosynth_bin_run1.nii.gz -mas ${subj}/model/glm/pros_videos/run1_nocatch.feat/mask.nii.gz ${subj}/model/masks/tools_neurosynth_bin_run1.nii.gz\n",
    "    flirt -in ${subj}/model/masks/tools_neurosynth_bin_run1.nii.gz -applyxfm -init ${subj}/func/${subj}_task-video_run-1_bold_ref_to_midsp.mat -out ${subj}/model/masks/tools_neurosynth_bin_inmidsp.nii.gz -interp nearestneighbour -ref ${subj}/func/Midtrans.nii.gz;\n",
    "echo $subj\n",
    "done"
   ]
  },
  {
   "cell_type": "code",
   "execution_count": 32,
   "metadata": {},
   "outputs": [
    {
     "name": "stdout",
     "output_type": "stream",
     "text": [
      "sub-lp01\n",
      "sub-lp02\n",
      "sub-lp03\n",
      "sub-lp04\n",
      "sub-lp05\n",
      "sub-lp06\n",
      "sub-lp07\n"
     ]
    }
   ],
   "source": [
    "%%bash\n",
    "cd /vols/Data/soma/superusers/\n",
    "for subj in sub-lp{01..07}; do\n",
    "    flirt -in ${subj}/model/masks/top100hemi/juelich_V1_L_all_run1.nii.gz -applyxfm -init ${subj}/func/${subj}_task-video_run-1_bold_ref_to_midsp.mat -out ${subj}/model/masks/top100hemi/juelich_V1_L_top100_inmidsp.nii.gz -interp nearestneighbour -ref ${subj}/func/Midtrans.nii.gz;\n",
    "    flirt -in ${subj}/model/masks/top100hemi/juelich_V1_R_all_run1.nii.gz -applyxfm -init ${subj}/func/${subj}_task-video_run-1_bold_ref_to_midsp.mat -out ${subj}/model/masks/top100hemi/juelich_V1_R_top100_inmidsp.nii.gz -interp nearestneighbour -ref ${subj}/func/Midtrans.nii.gz;\n",
    "\n",
    "echo $subj\n",
    "done"
   ]
  },
  {
   "cell_type": "markdown",
   "metadata": {},
   "source": [
    "### Plotting the number of Voxels within each mask"
   ]
  },
  {
   "cell_type": "code",
   "execution_count": 18,
   "metadata": {},
   "outputs": [],
   "source": [
    "%%bash\n",
    "cd /vols/Data/soma/superusers\n",
    "out_file=results/PROS-study_masks_top100hemi_masks.csv\n",
    "echo \"subj,LOTC_L,LOTC_R,PMd_L,PMd_R\"> $out_file\n",
    "for subj in sub-????; do\n",
    "        mask_dir=/vols/Data/soma/superusers/${subj}/model/masks/PROS_top100hemi\n",
    "        echo -n ${subj}>>$out_file\n",
    "        LOTC_L=`fslstats ${mask_dir}/LOTC_L_hands_tools_subjspace.nii.gz -V`;\n",
    "        LOTC_R=`fslstats ${mask_dir}/LOTC_R_hands_tools_subjspace.nii.gz -V`;\n",
    "        PMd_L=`fslstats ${mask_dir}/PMd_L_hands_tools_subjspace.nii.gz -V`;\n",
    "        PMd_R=`fslstats ${mask_dir}/PMd_R_hands_tools_subjspace.nii.gz -V`;\n",
    "        echo -n ,${LOTC_L},${LOTC_R},${PMd_L},${PMd_R} >>$out_file\n",
    "        echo \"\" >> $out_file;\n",
    "done"
   ]
  },
  {
   "cell_type": "code",
   "execution_count": 19,
   "metadata": {},
   "outputs": [
    {
     "data": {
      "text/html": [
       "<div>\n",
       "<style scoped>\n",
       "    .dataframe tbody tr th:only-of-type {\n",
       "        vertical-align: middle;\n",
       "    }\n",
       "\n",
       "    .dataframe tbody tr th {\n",
       "        vertical-align: top;\n",
       "    }\n",
       "\n",
       "    .dataframe thead th {\n",
       "        text-align: right;\n",
       "    }\n",
       "</style>\n",
       "<table border=\"1\" class=\"dataframe\">\n",
       "  <thead>\n",
       "    <tr style=\"text-align: right;\">\n",
       "      <th></th>\n",
       "      <th>LOTC_L_voxels</th>\n",
       "      <th>LOTC_R_voxels</th>\n",
       "      <th>PMd_L_voxels</th>\n",
       "      <th>PMd_R_voxels</th>\n",
       "    </tr>\n",
       "    <tr>\n",
       "      <th>subj</th>\n",
       "      <th></th>\n",
       "      <th></th>\n",
       "      <th></th>\n",
       "      <th></th>\n",
       "    </tr>\n",
       "  </thead>\n",
       "  <tbody>\n",
       "    <tr>\n",
       "      <th>sub-aa01</th>\n",
       "      <td>100</td>\n",
       "      <td>100</td>\n",
       "      <td>100</td>\n",
       "      <td>100</td>\n",
       "    </tr>\n",
       "    <tr>\n",
       "      <th>sub-aa02</th>\n",
       "      <td>100</td>\n",
       "      <td>100</td>\n",
       "      <td>100</td>\n",
       "      <td>100</td>\n",
       "    </tr>\n",
       "    <tr>\n",
       "      <th>sub-ac01</th>\n",
       "      <td>100</td>\n",
       "      <td>100</td>\n",
       "      <td>100</td>\n",
       "      <td>100</td>\n",
       "    </tr>\n",
       "    <tr>\n",
       "      <th>sub-ac02</th>\n",
       "      <td>100</td>\n",
       "      <td>100</td>\n",
       "      <td>100</td>\n",
       "      <td>100</td>\n",
       "    </tr>\n",
       "    <tr>\n",
       "      <th>sub-co01</th>\n",
       "      <td>100</td>\n",
       "      <td>100</td>\n",
       "      <td>100</td>\n",
       "      <td>100</td>\n",
       "    </tr>\n",
       "    <tr>\n",
       "      <th>sub-co02</th>\n",
       "      <td>100</td>\n",
       "      <td>100</td>\n",
       "      <td>100</td>\n",
       "      <td>100</td>\n",
       "    </tr>\n",
       "    <tr>\n",
       "      <th>sub-co03</th>\n",
       "      <td>100</td>\n",
       "      <td>100</td>\n",
       "      <td>100</td>\n",
       "      <td>100</td>\n",
       "    </tr>\n",
       "    <tr>\n",
       "      <th>sub-co04</th>\n",
       "      <td>100</td>\n",
       "      <td>100</td>\n",
       "      <td>100</td>\n",
       "      <td>100</td>\n",
       "    </tr>\n",
       "    <tr>\n",
       "      <th>sub-co05</th>\n",
       "      <td>100</td>\n",
       "      <td>100</td>\n",
       "      <td>100</td>\n",
       "      <td>100</td>\n",
       "    </tr>\n",
       "    <tr>\n",
       "      <th>sub-co06</th>\n",
       "      <td>100</td>\n",
       "      <td>100</td>\n",
       "      <td>100</td>\n",
       "      <td>100</td>\n",
       "    </tr>\n",
       "    <tr>\n",
       "      <th>sub-co07</th>\n",
       "      <td>100</td>\n",
       "      <td>100</td>\n",
       "      <td>100</td>\n",
       "      <td>100</td>\n",
       "    </tr>\n",
       "    <tr>\n",
       "      <th>sub-co08</th>\n",
       "      <td>100</td>\n",
       "      <td>100</td>\n",
       "      <td>100</td>\n",
       "      <td>100</td>\n",
       "    </tr>\n",
       "    <tr>\n",
       "      <th>sub-co09</th>\n",
       "      <td>100</td>\n",
       "      <td>100</td>\n",
       "      <td>100</td>\n",
       "      <td>100</td>\n",
       "    </tr>\n",
       "    <tr>\n",
       "      <th>sub-co10</th>\n",
       "      <td>100</td>\n",
       "      <td>100</td>\n",
       "      <td>100</td>\n",
       "      <td>100</td>\n",
       "    </tr>\n",
       "    <tr>\n",
       "      <th>sub-co11</th>\n",
       "      <td>100</td>\n",
       "      <td>100</td>\n",
       "      <td>100</td>\n",
       "      <td>100</td>\n",
       "    </tr>\n",
       "    <tr>\n",
       "      <th>sub-co13</th>\n",
       "      <td>100</td>\n",
       "      <td>100</td>\n",
       "      <td>100</td>\n",
       "      <td>100</td>\n",
       "    </tr>\n",
       "    <tr>\n",
       "      <th>sub-co14</th>\n",
       "      <td>100</td>\n",
       "      <td>100</td>\n",
       "      <td>100</td>\n",
       "      <td>100</td>\n",
       "    </tr>\n",
       "    <tr>\n",
       "      <th>sub-co15</th>\n",
       "      <td>100</td>\n",
       "      <td>100</td>\n",
       "      <td>100</td>\n",
       "      <td>100</td>\n",
       "    </tr>\n",
       "    <tr>\n",
       "      <th>sub-lp01</th>\n",
       "      <td>100</td>\n",
       "      <td>100</td>\n",
       "      <td>100</td>\n",
       "      <td>100</td>\n",
       "    </tr>\n",
       "    <tr>\n",
       "      <th>sub-lp02</th>\n",
       "      <td>100</td>\n",
       "      <td>100</td>\n",
       "      <td>100</td>\n",
       "      <td>100</td>\n",
       "    </tr>\n",
       "    <tr>\n",
       "      <th>sub-lp03</th>\n",
       "      <td>100</td>\n",
       "      <td>100</td>\n",
       "      <td>100</td>\n",
       "      <td>100</td>\n",
       "    </tr>\n",
       "    <tr>\n",
       "      <th>sub-lp04</th>\n",
       "      <td>100</td>\n",
       "      <td>100</td>\n",
       "      <td>100</td>\n",
       "      <td>100</td>\n",
       "    </tr>\n",
       "    <tr>\n",
       "      <th>sub-lp05</th>\n",
       "      <td>100</td>\n",
       "      <td>100</td>\n",
       "      <td>100</td>\n",
       "      <td>100</td>\n",
       "    </tr>\n",
       "    <tr>\n",
       "      <th>sub-lp06</th>\n",
       "      <td>100</td>\n",
       "      <td>100</td>\n",
       "      <td>100</td>\n",
       "      <td>100</td>\n",
       "    </tr>\n",
       "    <tr>\n",
       "      <th>sub-lp07</th>\n",
       "      <td>100</td>\n",
       "      <td>100</td>\n",
       "      <td>100</td>\n",
       "      <td>100</td>\n",
       "    </tr>\n",
       "  </tbody>\n",
       "</table>\n",
       "</div>"
      ],
      "text/plain": [
       "          LOTC_L_voxels  LOTC_R_voxels  PMd_L_voxels  PMd_R_voxels\n",
       "subj                                                              \n",
       "sub-aa01            100            100           100           100\n",
       "sub-aa02            100            100           100           100\n",
       "sub-ac01            100            100           100           100\n",
       "sub-ac02            100            100           100           100\n",
       "sub-co01            100            100           100           100\n",
       "sub-co02            100            100           100           100\n",
       "sub-co03            100            100           100           100\n",
       "sub-co04            100            100           100           100\n",
       "sub-co05            100            100           100           100\n",
       "sub-co06            100            100           100           100\n",
       "sub-co07            100            100           100           100\n",
       "sub-co08            100            100           100           100\n",
       "sub-co09            100            100           100           100\n",
       "sub-co10            100            100           100           100\n",
       "sub-co11            100            100           100           100\n",
       "sub-co13            100            100           100           100\n",
       "sub-co14            100            100           100           100\n",
       "sub-co15            100            100           100           100\n",
       "sub-lp01            100            100           100           100\n",
       "sub-lp02            100            100           100           100\n",
       "sub-lp03            100            100           100           100\n",
       "sub-lp04            100            100           100           100\n",
       "sub-lp05            100            100           100           100\n",
       "sub-lp06            100            100           100           100\n",
       "sub-lp07            100            100           100           100"
      ]
     },
     "execution_count": 19,
     "metadata": {},
     "output_type": "execute_result"
    }
   ],
   "source": [
    "df = pd.read_csv('/vols/Data/soma/superusers/results/PROS-study_masks_top100hemi_masks.csv')\n",
    "df['group']=df['subj'].str.slice(start=4,stop=5)\n",
    "df[['LOTC_L_voxels','LOTC_L_full']] = df.LOTC_L.str.split(expand=True)\n",
    "df[['LOTC_R_voxels','LOTC_R_full']] = df.LOTC_R.str.split(expand=True)\n",
    "df[['PMd_L_voxels','PMd_L_full']] = df.PMd_L.str.split(expand=True)\n",
    "df[['PMd_R_voxels','PMd_R_full']] = df.PMd_R.str.split(expand=True)\n",
    "df.to_csv('/vols/Data/soma/superusers/results/PROS-study_masks_top100hemi_masks.csv')\n",
    "df = pd.read_csv('/vols/Data/soma/superusers/results/PROS-study_masks_top100hemi_masks.csv')\n",
    "df=df[['subj','LOTC_L_voxels','LOTC_R_voxels','PMd_L_voxels','PMd_R_voxels']]\n",
    "df=df.set_index('subj')\n",
    "df\n",
    "#LOTC_L=df['LOTC_L_voxels']\n",
    "#LOTC_R=df['LOTC_R_voxels']"
   ]
  },
  {
   "cell_type": "code",
   "execution_count": 158,
   "metadata": {},
   "outputs": [
    {
     "data": {
      "image/png": "[encoded data removed]",
      "text/plain": [
       "<Figure size 720x432 with 1 Axes>"
      ]
     },
     "metadata": {
      "needs_background": "light"
     },
     "output_type": "display_data"
    }
   ],
   "source": [
    "df['LOTC_bi_voxels'].plot.bar(figsize=(10,6),fontsize=16)\n",
    "plt.ylabel('# of voxels', fontsize=18)\n",
    "plt.xlabel('Subjects', fontsize=18)\n",
    "plt.title('LOTC - voxels that meet thr 2.3', fontsize=18)\n",
    "plt.savefig('/vols/Data/soma/superusers/results/thresh_2.3_masks_plots/LOTC_bi.png', bbox_inches = \"tight\")"
   ]
  }
 ],
 "metadata": {
  "kernelspec": {
   "display_name": "Python 3",
   "language": "python",
   "name": "python3"
  },
  "language_info": {
   "codemirror_mode": {
    "name": "ipython",
    "version": 3
   },
   "file_extension": ".py",
   "mimetype": "text/x-python",
   "name": "python",
   "nbconvert_exporter": "python",
   "pygments_lexer": "ipython3",
   "version": "3.8.5"
  }
 },
 "nbformat": 4,
 "nbformat_minor": 4
}
